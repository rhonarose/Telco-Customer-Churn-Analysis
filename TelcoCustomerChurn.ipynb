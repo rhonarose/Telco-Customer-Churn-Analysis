{
 "cells": [
  {
   "cell_type": "code",
   "execution_count": 1,
   "id": "7ab928c6",
   "metadata": {
    "_cell_guid": "b1076dfc-b9ad-4769-8c92-a6c4dae69d19",
    "_uuid": "8f2839f25d086af736a60e9eeb907d3b93b6e0e5",
    "execution": {
     "iopub.execute_input": "2024-11-04T15:47:48.805897Z",
     "iopub.status.busy": "2024-11-04T15:47:48.804124Z",
     "iopub.status.idle": "2024-11-04T15:47:50.181242Z",
     "shell.execute_reply": "2024-11-04T15:47:50.179015Z"
    },
    "papermill": {
     "duration": 1.403798,
     "end_time": "2024-11-04T15:47:50.185516",
     "exception": false,
     "start_time": "2024-11-04T15:47:48.781718",
     "status": "completed"
    },
    "tags": []
   },
   "outputs": [
    {
     "name": "stdout",
     "output_type": "stream",
     "text": [
      "/kaggle/input/telco-customer-churn/TelcoCustomerChurn.csv\n"
     ]
    }
   ],
   "source": [
    "# This Python 3 environment comes with many helpful analytics libraries installed\n",
    "# It is defined by the kaggle/python Docker image: https://github.com/kaggle/docker-python\n",
    "# For example, here's several helpful packages to load\n",
    "\n",
    "import numpy as np # linear algebra\n",
    "import pandas as pd # data processing, CSV file I/O (e.g. pd.read_csv)\n",
    "\n",
    "# Input data files are available in the read-only \"../input/\" directory\n",
    "# For example, running this (by clicking run or pressing Shift+Enter) will list all files under the input directory\n",
    "\n",
    "import os\n",
    "for dirname, _, filenames in os.walk('/kaggle/input'):\n",
    "    for filename in filenames:\n",
    "        print(os.path.join(dirname, filename))\n",
    "\n",
    "# You can write up to 20GB to the current directory (/kaggle/working/) that gets preserved as output when you create a version using \"Save & Run All\" \n",
    "# You can also write temporary files to /kaggle/temp/, but they won't be saved outside of the current session"
   ]
  },
  {
   "cell_type": "markdown",
   "id": "f95e89a9",
   "metadata": {
    "papermill": {
     "duration": 0.019968,
     "end_time": "2024-11-04T15:47:50.226143",
     "exception": false,
     "start_time": "2024-11-04T15:47:50.206175",
     "status": "completed"
    },
    "tags": []
   },
   "source": [
    "# Purpose of Customer Churn Analysis\n",
    "\n",
    "**Objective:** The primary goal of customer churn analysis is to understand the factors contributing to customer attrition and to identify trends and patterns that can help reduce churn rates.\n",
    "\n",
    "**Business Impact:** High churn rates can significantly impact a company's revenue and profitability. By analyzing churn, businesses can develop targeted strategies to improve customer retention, enhance customer satisfaction, and ultimately increase lifetime value.\n",
    "\n",
    "**Strategic Use:** Insights from churn analysis enable businesses to proactively address issues, optimize customer service, tailor marketing efforts, and design more compelling customer experiences."
   ]
  },
  {
   "cell_type": "code",
   "execution_count": 2,
   "id": "4e20413a",
   "metadata": {
    "execution": {
     "iopub.execute_input": "2024-11-04T15:47:50.271207Z",
     "iopub.status.busy": "2024-11-04T15:47:50.270456Z",
     "iopub.status.idle": "2024-11-04T15:47:50.644064Z",
     "shell.execute_reply": "2024-11-04T15:47:50.641985Z"
    },
    "papermill": {
     "duration": 0.398404,
     "end_time": "2024-11-04T15:47:50.647724",
     "exception": false,
     "start_time": "2024-11-04T15:47:50.249320",
     "status": "completed"
    },
    "tags": []
   },
   "outputs": [],
   "source": [
    "import pandas as pd\n",
    "import sqlite3\n",
    "\n",
    "# Load the CSV file into a DataFrame\n",
    "file_path = '/kaggle/input/telco-customer-churn/TelcoCustomerChurn.csv'  # Adjust the path if needed\n",
    "telco_data = pd.read_csv(file_path)\n",
    "\n",
    "# Connect to SQLite (it will create a new database file if it doesn't exist)\n",
    "conn = sqlite3.connect('telco_customer_churn.db')  # You can specify a different path or name\n",
    "\n",
    "# Load the DataFrame into a SQL table\n",
    "telco_data.to_sql('TelcoCustomerChurn', conn, if_exists='replace', index=False)\n",
    "\n",
    "# Now you can run SQL queries on the SQLite database\n",
    "cursor = conn.cursor()"
   ]
  },
  {
   "cell_type": "markdown",
   "id": "9278fee7",
   "metadata": {
    "papermill": {
     "duration": 0.017802,
     "end_time": "2024-11-04T15:47:50.685316",
     "exception": false,
     "start_time": "2024-11-04T15:47:50.667514",
     "status": "completed"
    },
    "tags": []
   },
   "source": [
    "# Check for duplicates\n",
    "\n",
    "Analyzes the dataset to identify duplicate customer entries, ensuring data integrity and accuracy in churn analysis."
   ]
  },
  {
   "cell_type": "code",
   "execution_count": 3,
   "id": "ec635c93",
   "metadata": {
    "execution": {
     "iopub.execute_input": "2024-11-04T15:47:50.727449Z",
     "iopub.status.busy": "2024-11-04T15:47:50.726837Z",
     "iopub.status.idle": "2024-11-04T15:47:50.755250Z",
     "shell.execute_reply": "2024-11-04T15:47:50.753505Z"
    },
    "papermill": {
     "duration": 0.053922,
     "end_time": "2024-11-04T15:47:50.758636",
     "exception": false,
     "start_time": "2024-11-04T15:47:50.704714",
     "status": "completed"
    },
    "tags": []
   },
   "outputs": [
    {
     "data": {
      "text/html": [
       "<div>\n",
       "<style scoped>\n",
       "    .dataframe tbody tr th:only-of-type {\n",
       "        vertical-align: middle;\n",
       "    }\n",
       "\n",
       "    .dataframe tbody tr th {\n",
       "        vertical-align: top;\n",
       "    }\n",
       "\n",
       "    .dataframe thead th {\n",
       "        text-align: right;\n",
       "    }\n",
       "</style>\n",
       "<table border=\"1\" class=\"dataframe\">\n",
       "  <thead>\n",
       "    <tr style=\"text-align: right;\">\n",
       "      <th></th>\n",
       "      <th>CustomerID</th>\n",
       "      <th>DuplicateCount</th>\n",
       "    </tr>\n",
       "  </thead>\n",
       "  <tbody>\n",
       "  </tbody>\n",
       "</table>\n",
       "</div>"
      ],
      "text/plain": [
       "Empty DataFrame\n",
       "Columns: [CustomerID, DuplicateCount]\n",
       "Index: []"
      ]
     },
     "execution_count": 3,
     "metadata": {},
     "output_type": "execute_result"
    }
   ],
   "source": [
    "# 1. Check for Duplicates\n",
    "check_duplicates_query = \"\"\"\n",
    "SELECT CustomerID, COUNT(*) AS DuplicateCount\n",
    "FROM TelcoCustomerChurn\n",
    "GROUP BY CustomerID\n",
    "HAVING COUNT(*) > 1\n",
    "\"\"\"\n",
    "check_duplicates_result = pd.read_sql_query(check_duplicates_query, conn)\n",
    "check_duplicates_result"
   ]
  },
  {
   "cell_type": "markdown",
   "id": "ed3e467c",
   "metadata": {
    "papermill": {
     "duration": 0.018823,
     "end_time": "2024-11-04T15:47:50.796078",
     "exception": false,
     "start_time": "2024-11-04T15:47:50.777255",
     "status": "completed"
    },
    "tags": []
   },
   "source": [
    "# Total number of customers\n",
    "\n",
    "- This query retrieves the total count of customers in the TelcoCustomerChurn dataset."
   ]
  },
  {
   "cell_type": "code",
   "execution_count": 4,
   "id": "2f71aaa5",
   "metadata": {
    "execution": {
     "iopub.execute_input": "2024-11-04T15:47:50.837676Z",
     "iopub.status.busy": "2024-11-04T15:47:50.837113Z",
     "iopub.status.idle": "2024-11-04T15:47:50.852845Z",
     "shell.execute_reply": "2024-11-04T15:47:50.851262Z"
    },
    "papermill": {
     "duration": 0.040182,
     "end_time": "2024-11-04T15:47:50.856097",
     "exception": false,
     "start_time": "2024-11-04T15:47:50.815915",
     "status": "completed"
    },
    "tags": []
   },
   "outputs": [
    {
     "data": {
      "text/html": [
       "<div>\n",
       "<style scoped>\n",
       "    .dataframe tbody tr th:only-of-type {\n",
       "        vertical-align: middle;\n",
       "    }\n",
       "\n",
       "    .dataframe tbody tr th {\n",
       "        vertical-align: top;\n",
       "    }\n",
       "\n",
       "    .dataframe thead th {\n",
       "        text-align: right;\n",
       "    }\n",
       "</style>\n",
       "<table border=\"1\" class=\"dataframe\">\n",
       "  <thead>\n",
       "    <tr style=\"text-align: right;\">\n",
       "      <th></th>\n",
       "      <th>TotalCustomers</th>\n",
       "    </tr>\n",
       "  </thead>\n",
       "  <tbody>\n",
       "    <tr>\n",
       "      <th>0</th>\n",
       "      <td>7043</td>\n",
       "    </tr>\n",
       "  </tbody>\n",
       "</table>\n",
       "</div>"
      ],
      "text/plain": [
       "   TotalCustomers\n",
       "0            7043"
      ]
     },
     "execution_count": 4,
     "metadata": {},
     "output_type": "execute_result"
    }
   ],
   "source": [
    "# 2. Total Number of Customers\n",
    "total_customers_query = \"\"\"\n",
    "SELECT COUNT(*) AS TotalCustomers\n",
    "FROM TelcoCustomerChurn\n",
    "\"\"\"\n",
    "total_customers_result = pd.read_sql_query(total_customers_query, conn)\n",
    "total_customers_result"
   ]
  },
  {
   "cell_type": "markdown",
   "id": "9a1abd7f",
   "metadata": {
    "papermill": {
     "duration": 0.018628,
     "end_time": "2024-11-04T15:47:50.893375",
     "exception": false,
     "start_time": "2024-11-04T15:47:50.874747",
     "status": "completed"
    },
    "tags": []
   },
   "source": [
    "# Total number of customers (excluding recently joined)\n",
    "\n",
    "Counts the total number of customers in the dataset while excluding those who have recently joined, focusing on longer-term customers for churn analysis."
   ]
  },
  {
   "cell_type": "code",
   "execution_count": 5,
   "id": "aad310c8",
   "metadata": {
    "execution": {
     "iopub.execute_input": "2024-11-04T15:47:50.934002Z",
     "iopub.status.busy": "2024-11-04T15:47:50.932759Z",
     "iopub.status.idle": "2024-11-04T15:47:50.949384Z",
     "shell.execute_reply": "2024-11-04T15:47:50.947394Z"
    },
    "papermill": {
     "duration": 0.041088,
     "end_time": "2024-11-04T15:47:50.953192",
     "exception": false,
     "start_time": "2024-11-04T15:47:50.912104",
     "status": "completed"
    },
    "tags": []
   },
   "outputs": [
    {
     "data": {
      "text/html": [
       "<div>\n",
       "<style scoped>\n",
       "    .dataframe tbody tr th:only-of-type {\n",
       "        vertical-align: middle;\n",
       "    }\n",
       "\n",
       "    .dataframe tbody tr th {\n",
       "        vertical-align: top;\n",
       "    }\n",
       "\n",
       "    .dataframe thead th {\n",
       "        text-align: right;\n",
       "    }\n",
       "</style>\n",
       "<table border=\"1\" class=\"dataframe\">\n",
       "  <thead>\n",
       "    <tr style=\"text-align: right;\">\n",
       "      <th></th>\n",
       "      <th>TotalCustomers</th>\n",
       "    </tr>\n",
       "  </thead>\n",
       "  <tbody>\n",
       "    <tr>\n",
       "      <th>0</th>\n",
       "      <td>6589</td>\n",
       "    </tr>\n",
       "  </tbody>\n",
       "</table>\n",
       "</div>"
      ],
      "text/plain": [
       "   TotalCustomers\n",
       "0            6589"
      ]
     },
     "execution_count": 5,
     "metadata": {},
     "output_type": "execute_result"
    }
   ],
   "source": [
    "# 3. Total Number of Customers Who Have Stayed or Churned (Q3)\n",
    "total_customers_stayed_churned_query = \"\"\"\n",
    "SELECT COUNT(*) AS TotalCustomers\n",
    "FROM TelcoCustomerChurn\n",
    "WHERE CustomerStatus <> 'Joined'\n",
    "\"\"\"\n",
    "total_customers_stayed_churned_result = pd.read_sql_query(total_customers_stayed_churned_query, conn)\n",
    "total_customers_stayed_churned_result"
   ]
  },
  {
   "cell_type": "markdown",
   "id": "95a19ccf",
   "metadata": {
    "papermill": {
     "duration": 0.018599,
     "end_time": "2024-11-04T15:47:50.991166",
     "exception": false,
     "start_time": "2024-11-04T15:47:50.972567",
     "status": "completed"
    },
    "tags": []
   },
   "source": [
    "# Total number of customers who didn't churn\n",
    "\n",
    "Calculates the total number of customers who have not churned, providing a clear picture of customer retention."
   ]
  },
  {
   "cell_type": "code",
   "execution_count": 6,
   "id": "c26c64d9",
   "metadata": {
    "execution": {
     "iopub.execute_input": "2024-11-04T15:47:51.033780Z",
     "iopub.status.busy": "2024-11-04T15:47:51.033221Z",
     "iopub.status.idle": "2024-11-04T15:47:51.054339Z",
     "shell.execute_reply": "2024-11-04T15:47:51.052208Z"
    },
    "papermill": {
     "duration": 0.047192,
     "end_time": "2024-11-04T15:47:51.057799",
     "exception": false,
     "start_time": "2024-11-04T15:47:51.010607",
     "status": "completed"
    },
    "tags": []
   },
   "outputs": [
    {
     "data": {
      "text/html": [
       "<div>\n",
       "<style scoped>\n",
       "    .dataframe tbody tr th:only-of-type {\n",
       "        vertical-align: middle;\n",
       "    }\n",
       "\n",
       "    .dataframe tbody tr th {\n",
       "        vertical-align: top;\n",
       "    }\n",
       "\n",
       "    .dataframe thead th {\n",
       "        text-align: right;\n",
       "    }\n",
       "</style>\n",
       "<table border=\"1\" class=\"dataframe\">\n",
       "  <thead>\n",
       "    <tr style=\"text-align: right;\">\n",
       "      <th></th>\n",
       "      <th>RemainingCustomers</th>\n",
       "    </tr>\n",
       "  </thead>\n",
       "  <tbody>\n",
       "    <tr>\n",
       "      <th>0</th>\n",
       "      <td>5174</td>\n",
       "    </tr>\n",
       "  </tbody>\n",
       "</table>\n",
       "</div>"
      ],
      "text/plain": [
       "   RemainingCustomers\n",
       "0                5174"
      ]
     },
     "execution_count": 6,
     "metadata": {},
     "output_type": "execute_result"
    }
   ],
   "source": [
    "# 4. Total Remaining Customers (Not Churned)\n",
    "total_remaining_customers_query = \"\"\"\n",
    "SELECT COUNT(*) AS RemainingCustomers\n",
    "FROM TelcoCustomerChurn\n",
    "WHERE CustomerStatus <> 'Churned'\n",
    "\"\"\"\n",
    "total_remaining_customers_result = pd.read_sql_query(total_remaining_customers_query, conn)\n",
    "total_remaining_customers_result"
   ]
  },
  {
   "cell_type": "markdown",
   "id": "d6e3bcce",
   "metadata": {
    "papermill": {
     "duration": 0.019854,
     "end_time": "2024-11-04T15:47:51.097354",
     "exception": false,
     "start_time": "2024-11-04T15:47:51.077500",
     "status": "completed"
    },
    "tags": []
   },
   "source": [
    "# Overall churn rate\n",
    "\n",
    "Computes the overall churn rate for the dataset, indicating the percentage of customers that have left the service over a specified period."
   ]
  },
  {
   "cell_type": "code",
   "execution_count": 7,
   "id": "8948388d",
   "metadata": {
    "execution": {
     "iopub.execute_input": "2024-11-04T15:47:51.138475Z",
     "iopub.status.busy": "2024-11-04T15:47:51.137870Z",
     "iopub.status.idle": "2024-11-04T15:47:51.161882Z",
     "shell.execute_reply": "2024-11-04T15:47:51.160237Z"
    },
    "papermill": {
     "duration": 0.048632,
     "end_time": "2024-11-04T15:47:51.165145",
     "exception": false,
     "start_time": "2024-11-04T15:47:51.116513",
     "status": "completed"
    },
    "tags": []
   },
   "outputs": [
    {
     "data": {
      "text/html": [
       "<div>\n",
       "<style scoped>\n",
       "    .dataframe tbody tr th:only-of-type {\n",
       "        vertical-align: middle;\n",
       "    }\n",
       "\n",
       "    .dataframe tbody tr th {\n",
       "        vertical-align: top;\n",
       "    }\n",
       "\n",
       "    .dataframe thead th {\n",
       "        text-align: right;\n",
       "    }\n",
       "</style>\n",
       "<table border=\"1\" class=\"dataframe\">\n",
       "  <thead>\n",
       "    <tr style=\"text-align: right;\">\n",
       "      <th></th>\n",
       "      <th>ChurnCounts</th>\n",
       "      <th>ChurnRate</th>\n",
       "    </tr>\n",
       "  </thead>\n",
       "  <tbody>\n",
       "    <tr>\n",
       "      <th>0</th>\n",
       "      <td>1869</td>\n",
       "      <td>28.365458</td>\n",
       "    </tr>\n",
       "  </tbody>\n",
       "</table>\n",
       "</div>"
      ],
      "text/plain": [
       "   ChurnCounts  ChurnRate\n",
       "0         1869  28.365458"
      ]
     },
     "execution_count": 7,
     "metadata": {},
     "output_type": "execute_result"
    }
   ],
   "source": [
    "# 5. Overall Churn Rate in Q3\n",
    "overall_churn_rate_query = \"\"\"\n",
    "SELECT COUNT(*) AS ChurnCounts, \n",
    "       (COUNT(*) * 1.0 / (SELECT COUNT(*) FROM TelcoCustomerChurn WHERE CustomerStatus <> 'Joined')) * 100 AS ChurnRate\n",
    "FROM TelcoCustomerChurn\n",
    "WHERE CustomerStatus = 'Churned'\n",
    "\"\"\"\n",
    "overall_churn_rate_result = pd.read_sql_query(overall_churn_rate_query, conn)\n",
    "overall_churn_rate_result"
   ]
  },
  {
   "cell_type": "markdown",
   "id": "09ac3bcc",
   "metadata": {
    "papermill": {
     "duration": 0.018748,
     "end_time": "2024-11-04T15:47:51.203363",
     "exception": false,
     "start_time": "2024-11-04T15:47:51.184615",
     "status": "completed"
    },
    "tags": []
   },
   "source": [
    "# Calculate churn rate by gender\n",
    "\n",
    "This query evaluates the churn rate segmented by customer gender, offering insights into whether gender influences retention."
   ]
  },
  {
   "cell_type": "code",
   "execution_count": 8,
   "id": "80e84c97",
   "metadata": {
    "execution": {
     "iopub.execute_input": "2024-11-04T15:47:51.247637Z",
     "iopub.status.busy": "2024-11-04T15:47:51.247126Z",
     "iopub.status.idle": "2024-11-04T15:47:51.266437Z",
     "shell.execute_reply": "2024-11-04T15:47:51.264566Z"
    },
    "papermill": {
     "duration": 0.046325,
     "end_time": "2024-11-04T15:47:51.269539",
     "exception": false,
     "start_time": "2024-11-04T15:47:51.223214",
     "status": "completed"
    },
    "tags": []
   },
   "outputs": [
    {
     "data": {
      "text/html": [
       "<div>\n",
       "<style scoped>\n",
       "    .dataframe tbody tr th:only-of-type {\n",
       "        vertical-align: middle;\n",
       "    }\n",
       "\n",
       "    .dataframe tbody tr th {\n",
       "        vertical-align: top;\n",
       "    }\n",
       "\n",
       "    .dataframe thead th {\n",
       "        text-align: right;\n",
       "    }\n",
       "</style>\n",
       "<table border=\"1\" class=\"dataframe\">\n",
       "  <thead>\n",
       "    <tr style=\"text-align: right;\">\n",
       "      <th></th>\n",
       "      <th>Gender</th>\n",
       "      <th>ChurnCounts</th>\n",
       "      <th>ChurnRate</th>\n",
       "    </tr>\n",
       "  </thead>\n",
       "  <tbody>\n",
       "    <tr>\n",
       "      <th>0</th>\n",
       "      <td>Female</td>\n",
       "      <td>939</td>\n",
       "      <td>50.24077</td>\n",
       "    </tr>\n",
       "    <tr>\n",
       "      <th>1</th>\n",
       "      <td>Male</td>\n",
       "      <td>930</td>\n",
       "      <td>49.75923</td>\n",
       "    </tr>\n",
       "  </tbody>\n",
       "</table>\n",
       "</div>"
      ],
      "text/plain": [
       "   Gender  ChurnCounts  ChurnRate\n",
       "0  Female          939   50.24077\n",
       "1    Male          930   49.75923"
      ]
     },
     "execution_count": 8,
     "metadata": {},
     "output_type": "execute_result"
    }
   ],
   "source": [
    "# 6. Churn Rate by Gender for Q3\n",
    "churn_rate_by_gender_query = \"\"\"\n",
    "SELECT Gender, COUNT(*) AS ChurnCounts, \n",
    "       (COUNT(*) * 1.0 / SUM(COUNT(*)) OVER ()) * 100 AS ChurnRate\n",
    "FROM TelcoCustomerChurn\n",
    "WHERE CustomerStatus = 'Churned'\n",
    "GROUP BY Gender\n",
    "ORDER BY ChurnRate DESC\n",
    "\"\"\"\n",
    "churn_rate_by_gender_result = pd.read_sql_query(churn_rate_by_gender_query, conn)\n",
    "churn_rate_by_gender_result"
   ]
  },
  {
   "cell_type": "markdown",
   "id": "f80478b5",
   "metadata": {
    "papermill": {
     "duration": 0.020009,
     "end_time": "2024-11-04T15:47:51.309935",
     "exception": false,
     "start_time": "2024-11-04T15:47:51.289926",
     "status": "completed"
    },
    "tags": []
   },
   "source": [
    "# Calculate churn rate by Age\n",
    "\n",
    "Calculates the distribution of customer ages, providing insights into the demographic profile of the customer base."
   ]
  },
  {
   "cell_type": "code",
   "execution_count": 9,
   "id": "8950f574",
   "metadata": {
    "execution": {
     "iopub.execute_input": "2024-11-04T15:47:51.351356Z",
     "iopub.status.busy": "2024-11-04T15:47:51.350793Z",
     "iopub.status.idle": "2024-11-04T15:47:51.380878Z",
     "shell.execute_reply": "2024-11-04T15:47:51.378928Z"
    },
    "papermill": {
     "duration": 0.054373,
     "end_time": "2024-11-04T15:47:51.383996",
     "exception": false,
     "start_time": "2024-11-04T15:47:51.329623",
     "status": "completed"
    },
    "tags": []
   },
   "outputs": [
    {
     "data": {
      "text/html": [
       "<div>\n",
       "<style scoped>\n",
       "    .dataframe tbody tr th:only-of-type {\n",
       "        vertical-align: middle;\n",
       "    }\n",
       "\n",
       "    .dataframe tbody tr th {\n",
       "        vertical-align: top;\n",
       "    }\n",
       "\n",
       "    .dataframe thead th {\n",
       "        text-align: right;\n",
       "    }\n",
       "</style>\n",
       "<table border=\"1\" class=\"dataframe\">\n",
       "  <thead>\n",
       "    <tr style=\"text-align: right;\">\n",
       "      <th></th>\n",
       "      <th>Age</th>\n",
       "      <th>ChurnCounts</th>\n",
       "      <th>ChurnRate</th>\n",
       "    </tr>\n",
       "  </thead>\n",
       "  <tbody>\n",
       "    <tr>\n",
       "      <th>0</th>\n",
       "      <td>44</td>\n",
       "      <td>41</td>\n",
       "      <td>2.193686</td>\n",
       "    </tr>\n",
       "    <tr>\n",
       "      <th>1</th>\n",
       "      <td>47</td>\n",
       "      <td>41</td>\n",
       "      <td>2.193686</td>\n",
       "    </tr>\n",
       "    <tr>\n",
       "      <th>2</th>\n",
       "      <td>53</td>\n",
       "      <td>41</td>\n",
       "      <td>2.193686</td>\n",
       "    </tr>\n",
       "    <tr>\n",
       "      <th>3</th>\n",
       "      <td>68</td>\n",
       "      <td>40</td>\n",
       "      <td>2.140182</td>\n",
       "    </tr>\n",
       "    <tr>\n",
       "      <th>4</th>\n",
       "      <td>39</td>\n",
       "      <td>39</td>\n",
       "      <td>2.086677</td>\n",
       "    </tr>\n",
       "    <tr>\n",
       "      <th>...</th>\n",
       "      <td>...</td>\n",
       "      <td>...</td>\n",
       "      <td>...</td>\n",
       "    </tr>\n",
       "    <tr>\n",
       "      <th>57</th>\n",
       "      <td>43</td>\n",
       "      <td>22</td>\n",
       "      <td>1.177100</td>\n",
       "    </tr>\n",
       "    <tr>\n",
       "      <th>58</th>\n",
       "      <td>45</td>\n",
       "      <td>20</td>\n",
       "      <td>1.070091</td>\n",
       "    </tr>\n",
       "    <tr>\n",
       "      <th>59</th>\n",
       "      <td>19</td>\n",
       "      <td>18</td>\n",
       "      <td>0.963082</td>\n",
       "    </tr>\n",
       "    <tr>\n",
       "      <th>60</th>\n",
       "      <td>24</td>\n",
       "      <td>18</td>\n",
       "      <td>0.963082</td>\n",
       "    </tr>\n",
       "    <tr>\n",
       "      <th>61</th>\n",
       "      <td>72</td>\n",
       "      <td>15</td>\n",
       "      <td>0.802568</td>\n",
       "    </tr>\n",
       "  </tbody>\n",
       "</table>\n",
       "<p>62 rows × 3 columns</p>\n",
       "</div>"
      ],
      "text/plain": [
       "    Age  ChurnCounts  ChurnRate\n",
       "0    44           41   2.193686\n",
       "1    47           41   2.193686\n",
       "2    53           41   2.193686\n",
       "3    68           40   2.140182\n",
       "4    39           39   2.086677\n",
       "..  ...          ...        ...\n",
       "57   43           22   1.177100\n",
       "58   45           20   1.070091\n",
       "59   19           18   0.963082\n",
       "60   24           18   0.963082\n",
       "61   72           15   0.802568\n",
       "\n",
       "[62 rows x 3 columns]"
      ]
     },
     "execution_count": 9,
     "metadata": {},
     "output_type": "execute_result"
    }
   ],
   "source": [
    "# 7. Churn Rate by Age for Q3\n",
    "churn_rate_by_age_query = \"\"\"\n",
    "SELECT Age, COUNT(*) AS ChurnCounts, \n",
    "       (COUNT(*) * 1.0 / SUM(COUNT(*)) OVER ()) * 100 AS ChurnRate\n",
    "FROM TelcoCustomerChurn\n",
    "WHERE CustomerStatus = 'Churned'\n",
    "GROUP BY Age\n",
    "ORDER BY ChurnRate DESC, Age\n",
    "\"\"\"\n",
    "churn_rate_by_age_result = pd.read_sql_query(churn_rate_by_age_query, conn)\n",
    "churn_rate_by_age_result"
   ]
  },
  {
   "cell_type": "markdown",
   "id": "9528aa7b",
   "metadata": {
    "papermill": {
     "duration": 0.022973,
     "end_time": "2024-11-04T15:47:51.427439",
     "exception": false,
     "start_time": "2024-11-04T15:47:51.404466",
     "status": "completed"
    },
    "tags": []
   },
   "source": [
    "# Churn rate by age group\n",
    "\n",
    "Segments customers by age groups and calculates the churn rate within these segments, providing insights into age-related retention trends."
   ]
  },
  {
   "cell_type": "code",
   "execution_count": 10,
   "id": "436d6ca5",
   "metadata": {
    "execution": {
     "iopub.execute_input": "2024-11-04T15:47:51.469921Z",
     "iopub.status.busy": "2024-11-04T15:47:51.468697Z",
     "iopub.status.idle": "2024-11-04T15:47:51.491138Z",
     "shell.execute_reply": "2024-11-04T15:47:51.489479Z"
    },
    "papermill": {
     "duration": 0.047627,
     "end_time": "2024-11-04T15:47:51.494738",
     "exception": false,
     "start_time": "2024-11-04T15:47:51.447111",
     "status": "completed"
    },
    "tags": []
   },
   "outputs": [
    {
     "data": {
      "text/html": [
       "<div>\n",
       "<style scoped>\n",
       "    .dataframe tbody tr th:only-of-type {\n",
       "        vertical-align: middle;\n",
       "    }\n",
       "\n",
       "    .dataframe tbody tr th {\n",
       "        vertical-align: top;\n",
       "    }\n",
       "\n",
       "    .dataframe thead th {\n",
       "        text-align: right;\n",
       "    }\n",
       "</style>\n",
       "<table border=\"1\" class=\"dataframe\">\n",
       "  <thead>\n",
       "    <tr style=\"text-align: right;\">\n",
       "      <th></th>\n",
       "      <th>AgeGroup</th>\n",
       "      <th>ChurnCounts</th>\n",
       "      <th>ChurnRate</th>\n",
       "    </tr>\n",
       "  </thead>\n",
       "  <tbody>\n",
       "    <tr>\n",
       "      <th>0</th>\n",
       "      <td>Senior (60+)</td>\n",
       "      <td>631</td>\n",
       "      <td>33.761370</td>\n",
       "    </tr>\n",
       "    <tr>\n",
       "      <th>1</th>\n",
       "      <td>Middle-Aged (40-59)</td>\n",
       "      <td>625</td>\n",
       "      <td>33.440342</td>\n",
       "    </tr>\n",
       "    <tr>\n",
       "      <th>2</th>\n",
       "      <td>Young Adult (18-39)</td>\n",
       "      <td>613</td>\n",
       "      <td>32.798288</td>\n",
       "    </tr>\n",
       "  </tbody>\n",
       "</table>\n",
       "</div>"
      ],
      "text/plain": [
       "              AgeGroup  ChurnCounts  ChurnRate\n",
       "0         Senior (60+)          631  33.761370\n",
       "1  Middle-Aged (40-59)          625  33.440342\n",
       "2  Young Adult (18-39)          613  32.798288"
      ]
     },
     "execution_count": 10,
     "metadata": {},
     "output_type": "execute_result"
    }
   ],
   "source": [
    "# 8. Churn Rate by Age Groups for Q3\n",
    "churn_rate_by_age_groups_query = \"\"\"\n",
    "WITH Churned AS (\n",
    "    SELECT \n",
    "        CASE\n",
    "            WHEN Age BETWEEN 18 AND 39 THEN 'Young Adult (18-39)'\n",
    "            WHEN Age BETWEEN 40 AND 59 THEN 'Middle-Aged (40-59)'\n",
    "            WHEN Age BETWEEN 60 AND 100 THEN 'Senior (60+)'\n",
    "        END AS AgeGroup, COUNT(*) AS ChurnCounts\n",
    "    FROM TelcoCustomerChurn\n",
    "    WHERE CustomerStatus = 'Churned'\n",
    "    GROUP BY \n",
    "        CASE\n",
    "            WHEN Age BETWEEN 18 AND 39 THEN 'Young Adult (18-39)'\n",
    "            WHEN Age BETWEEN 40 AND 59 THEN 'Middle-Aged (40-59)'\n",
    "            WHEN Age BETWEEN 60 AND 100 THEN 'Senior (60+)'\n",
    "        END\n",
    ")\n",
    "SELECT AgeGroup, ChurnCounts, \n",
    "       (ChurnCounts * 1.0 / SUM(ChurnCounts) OVER ()) * 100 AS ChurnRate  \n",
    "FROM Churned\n",
    "ORDER BY ChurnRate DESC\n",
    "\"\"\"\n",
    "churn_rate_by_age_groups_result = pd.read_sql_query(churn_rate_by_age_groups_query, conn)\n",
    "churn_rate_by_age_groups_result"
   ]
  },
  {
   "cell_type": "markdown",
   "id": "aa2bb609",
   "metadata": {
    "papermill": {
     "duration": 0.020993,
     "end_time": "2024-11-04T15:47:51.537277",
     "exception": false,
     "start_time": "2024-11-04T15:47:51.516284",
     "status": "completed"
    },
    "tags": []
   },
   "source": [
    "# Churn rate by age and gender\n",
    "\n",
    "Analyzes churn rates considering both age and gender, helping to identify if specific demographics are more prone to churn."
   ]
  },
  {
   "cell_type": "code",
   "execution_count": 11,
   "id": "3d03d49f",
   "metadata": {
    "execution": {
     "iopub.execute_input": "2024-11-04T15:47:51.581468Z",
     "iopub.status.busy": "2024-11-04T15:47:51.580905Z",
     "iopub.status.idle": "2024-11-04T15:47:51.607815Z",
     "shell.execute_reply": "2024-11-04T15:47:51.606023Z"
    },
    "papermill": {
     "duration": 0.053599,
     "end_time": "2024-11-04T15:47:51.611754",
     "exception": false,
     "start_time": "2024-11-04T15:47:51.558155",
     "status": "completed"
    },
    "tags": []
   },
   "outputs": [
    {
     "data": {
      "text/html": [
       "<div>\n",
       "<style scoped>\n",
       "    .dataframe tbody tr th:only-of-type {\n",
       "        vertical-align: middle;\n",
       "    }\n",
       "\n",
       "    .dataframe tbody tr th {\n",
       "        vertical-align: top;\n",
       "    }\n",
       "\n",
       "    .dataframe thead th {\n",
       "        text-align: right;\n",
       "    }\n",
       "</style>\n",
       "<table border=\"1\" class=\"dataframe\">\n",
       "  <thead>\n",
       "    <tr style=\"text-align: right;\">\n",
       "      <th></th>\n",
       "      <th>Age</th>\n",
       "      <th>Gender</th>\n",
       "      <th>ChurnCounts</th>\n",
       "      <th>ChurnRate</th>\n",
       "    </tr>\n",
       "  </thead>\n",
       "  <tbody>\n",
       "    <tr>\n",
       "      <th>0</th>\n",
       "      <td>68</td>\n",
       "      <td>Female</td>\n",
       "      <td>25</td>\n",
       "      <td>1.337614</td>\n",
       "    </tr>\n",
       "    <tr>\n",
       "      <th>1</th>\n",
       "      <td>44</td>\n",
       "      <td>Male</td>\n",
       "      <td>24</td>\n",
       "      <td>1.284109</td>\n",
       "    </tr>\n",
       "    <tr>\n",
       "      <th>2</th>\n",
       "      <td>47</td>\n",
       "      <td>Female</td>\n",
       "      <td>22</td>\n",
       "      <td>1.177100</td>\n",
       "    </tr>\n",
       "    <tr>\n",
       "      <th>3</th>\n",
       "      <td>71</td>\n",
       "      <td>Male</td>\n",
       "      <td>22</td>\n",
       "      <td>1.177100</td>\n",
       "    </tr>\n",
       "    <tr>\n",
       "      <th>4</th>\n",
       "      <td>30</td>\n",
       "      <td>Male</td>\n",
       "      <td>21</td>\n",
       "      <td>1.123596</td>\n",
       "    </tr>\n",
       "    <tr>\n",
       "      <th>...</th>\n",
       "      <td>...</td>\n",
       "      <td>...</td>\n",
       "      <td>...</td>\n",
       "      <td>...</td>\n",
       "    </tr>\n",
       "    <tr>\n",
       "      <th>119</th>\n",
       "      <td>24</td>\n",
       "      <td>Female</td>\n",
       "      <td>8</td>\n",
       "      <td>0.428036</td>\n",
       "    </tr>\n",
       "    <tr>\n",
       "      <th>120</th>\n",
       "      <td>45</td>\n",
       "      <td>Male</td>\n",
       "      <td>7</td>\n",
       "      <td>0.374532</td>\n",
       "    </tr>\n",
       "    <tr>\n",
       "      <th>121</th>\n",
       "      <td>19</td>\n",
       "      <td>Male</td>\n",
       "      <td>6</td>\n",
       "      <td>0.321027</td>\n",
       "    </tr>\n",
       "    <tr>\n",
       "      <th>122</th>\n",
       "      <td>71</td>\n",
       "      <td>Female</td>\n",
       "      <td>5</td>\n",
       "      <td>0.267523</td>\n",
       "    </tr>\n",
       "    <tr>\n",
       "      <th>123</th>\n",
       "      <td>72</td>\n",
       "      <td>Male</td>\n",
       "      <td>5</td>\n",
       "      <td>0.267523</td>\n",
       "    </tr>\n",
       "  </tbody>\n",
       "</table>\n",
       "<p>124 rows × 4 columns</p>\n",
       "</div>"
      ],
      "text/plain": [
       "     Age  Gender  ChurnCounts  ChurnRate\n",
       "0     68  Female           25   1.337614\n",
       "1     44    Male           24   1.284109\n",
       "2     47  Female           22   1.177100\n",
       "3     71    Male           22   1.177100\n",
       "4     30    Male           21   1.123596\n",
       "..   ...     ...          ...        ...\n",
       "119   24  Female            8   0.428036\n",
       "120   45    Male            7   0.374532\n",
       "121   19    Male            6   0.321027\n",
       "122   71  Female            5   0.267523\n",
       "123   72    Male            5   0.267523\n",
       "\n",
       "[124 rows x 4 columns]"
      ]
     },
     "execution_count": 11,
     "metadata": {},
     "output_type": "execute_result"
    }
   ],
   "source": [
    "# 9. Churn Rate by Age and Gender for Q3\n",
    "churn_rate_by_age_gender_query = \"\"\"\n",
    "SELECT Age, Gender, COUNT(*) AS ChurnCounts, \n",
    "       (COUNT(*) * 1.0 / SUM(COUNT(*)) OVER ()) * 100 AS ChurnRate\n",
    "FROM TelcoCustomerChurn\n",
    "WHERE CustomerStatus = 'Churned'\n",
    "GROUP BY Age, Gender\n",
    "ORDER BY ChurnRate DESC\n",
    "\"\"\"\n",
    "churn_rate_by_age_gender_result = pd.read_sql_query(churn_rate_by_age_gender_query, conn)\n",
    "churn_rate_by_age_gender_result"
   ]
  },
  {
   "cell_type": "markdown",
   "id": "5a8d40c9",
   "metadata": {
    "papermill": {
     "duration": 0.023184,
     "end_time": "2024-11-04T15:47:51.657346",
     "exception": false,
     "start_time": "2024-11-04T15:47:51.634162",
     "status": "completed"
    },
    "tags": []
   },
   "source": [
    "# Churn rate by age group and gender\n",
    "\n",
    "Segments customers into age groups and genders to calculate churn rates, revealing more nuanced demographic trends in customer retention."
   ]
  },
  {
   "cell_type": "code",
   "execution_count": 12,
   "id": "1215ea85",
   "metadata": {
    "execution": {
     "iopub.execute_input": "2024-11-04T15:47:51.701062Z",
     "iopub.status.busy": "2024-11-04T15:47:51.700511Z",
     "iopub.status.idle": "2024-11-04T15:47:51.724960Z",
     "shell.execute_reply": "2024-11-04T15:47:51.722913Z"
    },
    "papermill": {
     "duration": 0.050501,
     "end_time": "2024-11-04T15:47:51.728470",
     "exception": false,
     "start_time": "2024-11-04T15:47:51.677969",
     "status": "completed"
    },
    "tags": []
   },
   "outputs": [
    {
     "data": {
      "text/html": [
       "<div>\n",
       "<style scoped>\n",
       "    .dataframe tbody tr th:only-of-type {\n",
       "        vertical-align: middle;\n",
       "    }\n",
       "\n",
       "    .dataframe tbody tr th {\n",
       "        vertical-align: top;\n",
       "    }\n",
       "\n",
       "    .dataframe thead th {\n",
       "        text-align: right;\n",
       "    }\n",
       "</style>\n",
       "<table border=\"1\" class=\"dataframe\">\n",
       "  <thead>\n",
       "    <tr style=\"text-align: right;\">\n",
       "      <th></th>\n",
       "      <th>AgeGroup</th>\n",
       "      <th>Gender</th>\n",
       "      <th>ChurnCounts</th>\n",
       "      <th>ChurnRate</th>\n",
       "    </tr>\n",
       "  </thead>\n",
       "  <tbody>\n",
       "    <tr>\n",
       "      <th>0</th>\n",
       "      <td>Senior (60+)</td>\n",
       "      <td>Male</td>\n",
       "      <td>320</td>\n",
       "      <td>17.121455</td>\n",
       "    </tr>\n",
       "    <tr>\n",
       "      <th>1</th>\n",
       "      <td>Young Adult (18-39)</td>\n",
       "      <td>Female</td>\n",
       "      <td>316</td>\n",
       "      <td>16.907437</td>\n",
       "    </tr>\n",
       "    <tr>\n",
       "      <th>2</th>\n",
       "      <td>Middle-Aged (40-59)</td>\n",
       "      <td>Male</td>\n",
       "      <td>313</td>\n",
       "      <td>16.746923</td>\n",
       "    </tr>\n",
       "    <tr>\n",
       "      <th>3</th>\n",
       "      <td>Middle-Aged (40-59)</td>\n",
       "      <td>Female</td>\n",
       "      <td>312</td>\n",
       "      <td>16.693419</td>\n",
       "    </tr>\n",
       "    <tr>\n",
       "      <th>4</th>\n",
       "      <td>Senior (60+)</td>\n",
       "      <td>Female</td>\n",
       "      <td>311</td>\n",
       "      <td>16.639914</td>\n",
       "    </tr>\n",
       "    <tr>\n",
       "      <th>5</th>\n",
       "      <td>Young Adult (18-39)</td>\n",
       "      <td>Male</td>\n",
       "      <td>297</td>\n",
       "      <td>15.890851</td>\n",
       "    </tr>\n",
       "  </tbody>\n",
       "</table>\n",
       "</div>"
      ],
      "text/plain": [
       "              AgeGroup  Gender  ChurnCounts  ChurnRate\n",
       "0         Senior (60+)    Male          320  17.121455\n",
       "1  Young Adult (18-39)  Female          316  16.907437\n",
       "2  Middle-Aged (40-59)    Male          313  16.746923\n",
       "3  Middle-Aged (40-59)  Female          312  16.693419\n",
       "4         Senior (60+)  Female          311  16.639914\n",
       "5  Young Adult (18-39)    Male          297  15.890851"
      ]
     },
     "execution_count": 12,
     "metadata": {},
     "output_type": "execute_result"
    }
   ],
   "source": [
    "# 10. Churn Rate by Age Groups and Gender for Q3\n",
    "churn_rate_by_age_gender_groups_query = \"\"\"\n",
    "WITH Churned AS (\n",
    "    SELECT \n",
    "        CASE\n",
    "            WHEN Age BETWEEN 18 AND 39 THEN 'Young Adult (18-39)'\n",
    "            WHEN Age BETWEEN 40 AND 59 THEN 'Middle-Aged (40-59)'\n",
    "            WHEN Age BETWEEN 60 AND 100 THEN 'Senior (60+)'\n",
    "        END AS AgeGroup, Gender, COUNT(*) AS ChurnCounts\n",
    "    FROM TelcoCustomerChurn\n",
    "    WHERE CustomerStatus = 'Churned'\n",
    "    GROUP BY \n",
    "        CASE\n",
    "            WHEN Age BETWEEN 18 AND 39 THEN 'Young Adult (18-39)'\n",
    "            WHEN Age BETWEEN 40 AND 59 THEN 'Middle-Aged (40-59)'\n",
    "            WHEN Age BETWEEN 60 AND 100 THEN 'Senior (60+)'\n",
    "        END, Gender\n",
    ")\n",
    "SELECT AgeGroup, Gender, ChurnCounts, \n",
    "       (ChurnCounts * 1.0 / SUM(ChurnCounts) OVER ()) * 100 AS ChurnRate  \n",
    "FROM Churned\n",
    "ORDER BY ChurnRate DESC\n",
    "\"\"\"\n",
    "churn_rate_by_age_gender_groups_result = pd.read_sql_query(churn_rate_by_age_gender_groups_query, conn)\n",
    "churn_rate_by_age_gender_groups_result"
   ]
  },
  {
   "cell_type": "markdown",
   "id": "1aa502c7",
   "metadata": {
    "papermill": {
     "duration": 0.020295,
     "end_time": "2024-11-04T15:47:51.770252",
     "exception": false,
     "start_time": "2024-11-04T15:47:51.749957",
     "status": "completed"
    },
    "tags": []
   },
   "source": [
    "# Calculate churn rate by marital status\n",
    "\n",
    "This query assesses the churn rate based on the marital status of customers, which may indicate how personal circumstances affect customer loyalty."
   ]
  },
  {
   "cell_type": "code",
   "execution_count": 13,
   "id": "1fed56b3",
   "metadata": {
    "execution": {
     "iopub.execute_input": "2024-11-04T15:47:51.815850Z",
     "iopub.status.busy": "2024-11-04T15:47:51.814465Z",
     "iopub.status.idle": "2024-11-04T15:47:51.835260Z",
     "shell.execute_reply": "2024-11-04T15:47:51.833403Z"
    },
    "papermill": {
     "duration": 0.048164,
     "end_time": "2024-11-04T15:47:51.838893",
     "exception": false,
     "start_time": "2024-11-04T15:47:51.790729",
     "status": "completed"
    },
    "tags": []
   },
   "outputs": [
    {
     "data": {
      "text/html": [
       "<div>\n",
       "<style scoped>\n",
       "    .dataframe tbody tr th:only-of-type {\n",
       "        vertical-align: middle;\n",
       "    }\n",
       "\n",
       "    .dataframe tbody tr th {\n",
       "        vertical-align: top;\n",
       "    }\n",
       "\n",
       "    .dataframe thead th {\n",
       "        text-align: right;\n",
       "    }\n",
       "</style>\n",
       "<table border=\"1\" class=\"dataframe\">\n",
       "  <thead>\n",
       "    <tr style=\"text-align: right;\">\n",
       "      <th></th>\n",
       "      <th>Married</th>\n",
       "      <th>ChurnCounts</th>\n",
       "      <th>ChurnRate</th>\n",
       "    </tr>\n",
       "  </thead>\n",
       "  <tbody>\n",
       "    <tr>\n",
       "      <th>0</th>\n",
       "      <td>No</td>\n",
       "      <td>1200</td>\n",
       "      <td>64.205457</td>\n",
       "    </tr>\n",
       "    <tr>\n",
       "      <th>1</th>\n",
       "      <td>Yes</td>\n",
       "      <td>669</td>\n",
       "      <td>35.794543</td>\n",
       "    </tr>\n",
       "  </tbody>\n",
       "</table>\n",
       "</div>"
      ],
      "text/plain": [
       "  Married  ChurnCounts  ChurnRate\n",
       "0      No         1200  64.205457\n",
       "1     Yes          669  35.794543"
      ]
     },
     "execution_count": 13,
     "metadata": {},
     "output_type": "execute_result"
    }
   ],
   "source": [
    "# 11. Churn Rate Based on Marital Status for Q3\n",
    "churn_rate_by_marital_status_query = \"\"\"\n",
    "SELECT Married, COUNT(*) AS ChurnCounts, \n",
    "       (COUNT(*) * 1.0 / SUM(COUNT(*)) OVER ()) * 100 AS ChurnRate\n",
    "FROM TelcoCustomerChurn\n",
    "WHERE CustomerStatus = 'Churned'\n",
    "GROUP BY Married\n",
    "ORDER BY ChurnRate DESC\n",
    "\"\"\"\n",
    "churn_rate_by_marital_status_result = pd.read_sql_query(churn_rate_by_marital_status_query, conn)\n",
    "churn_rate_by_marital_status_result"
   ]
  },
  {
   "cell_type": "markdown",
   "id": "46a06909",
   "metadata": {
    "papermill": {
     "duration": 0.020491,
     "end_time": "2024-11-04T15:47:51.880584",
     "exception": false,
     "start_time": "2024-11-04T15:47:51.860093",
     "status": "completed"
    },
    "tags": []
   },
   "source": [
    "# Churn rate by dependents\n",
    "\n",
    "Evaluates churn rates based on whether customers have dependents, providing insights into how family status influences customer loyalty."
   ]
  },
  {
   "cell_type": "code",
   "execution_count": 14,
   "id": "10099212",
   "metadata": {
    "execution": {
     "iopub.execute_input": "2024-11-04T15:47:51.925967Z",
     "iopub.status.busy": "2024-11-04T15:47:51.925418Z",
     "iopub.status.idle": "2024-11-04T15:47:51.944319Z",
     "shell.execute_reply": "2024-11-04T15:47:51.942733Z"
    },
    "papermill": {
     "duration": 0.046654,
     "end_time": "2024-11-04T15:47:51.947976",
     "exception": false,
     "start_time": "2024-11-04T15:47:51.901322",
     "status": "completed"
    },
    "tags": []
   },
   "outputs": [
    {
     "data": {
      "text/html": [
       "<div>\n",
       "<style scoped>\n",
       "    .dataframe tbody tr th:only-of-type {\n",
       "        vertical-align: middle;\n",
       "    }\n",
       "\n",
       "    .dataframe tbody tr th {\n",
       "        vertical-align: top;\n",
       "    }\n",
       "\n",
       "    .dataframe thead th {\n",
       "        text-align: right;\n",
       "    }\n",
       "</style>\n",
       "<table border=\"1\" class=\"dataframe\">\n",
       "  <thead>\n",
       "    <tr style=\"text-align: right;\">\n",
       "      <th></th>\n",
       "      <th>Dependents</th>\n",
       "      <th>ChurnCounts</th>\n",
       "      <th>ChurnRate</th>\n",
       "    </tr>\n",
       "  </thead>\n",
       "  <tbody>\n",
       "    <tr>\n",
       "      <th>0</th>\n",
       "      <td>No</td>\n",
       "      <td>1763</td>\n",
       "      <td>94.328518</td>\n",
       "    </tr>\n",
       "    <tr>\n",
       "      <th>1</th>\n",
       "      <td>Yes</td>\n",
       "      <td>106</td>\n",
       "      <td>5.671482</td>\n",
       "    </tr>\n",
       "  </tbody>\n",
       "</table>\n",
       "</div>"
      ],
      "text/plain": [
       "  Dependents  ChurnCounts  ChurnRate\n",
       "0         No         1763  94.328518\n",
       "1        Yes          106   5.671482"
      ]
     },
     "execution_count": 14,
     "metadata": {},
     "output_type": "execute_result"
    }
   ],
   "source": [
    "# 12. Churn Rate Based on Dependent Status for Q3\n",
    "churn_rate_by_dependent_status_query = \"\"\"\n",
    "SELECT Dependents, COUNT(*) AS ChurnCounts, \n",
    "       (COUNT(*) * 1.0 / SUM(COUNT(*)) OVER ()) * 100 AS ChurnRate\n",
    "FROM TelcoCustomerChurn\n",
    "WHERE CustomerStatus = 'Churned'\n",
    "GROUP BY Dependents\n",
    "ORDER BY ChurnRate DESC\n",
    "\"\"\"\n",
    "churn_rate_by_dependent_status_result = pd.read_sql_query(churn_rate_by_dependent_status_query, conn)\n",
    "churn_rate_by_dependent_status_result"
   ]
  },
  {
   "cell_type": "markdown",
   "id": "763e48a1",
   "metadata": {
    "papermill": {
     "duration": 0.020606,
     "end_time": "2024-11-04T15:47:51.989819",
     "exception": false,
     "start_time": "2024-11-04T15:47:51.969213",
     "status": "completed"
    },
    "tags": []
   },
   "source": [
    "# Churn rate by Number of dependents\n",
    "\n",
    "Retrieves the total count of dependents associated with customers, helping to understand family structures within the customer base."
   ]
  },
  {
   "cell_type": "code",
   "execution_count": 15,
   "id": "f83a75eb",
   "metadata": {
    "execution": {
     "iopub.execute_input": "2024-11-04T15:47:52.036238Z",
     "iopub.status.busy": "2024-11-04T15:47:52.035695Z",
     "iopub.status.idle": "2024-11-04T15:47:52.056309Z",
     "shell.execute_reply": "2024-11-04T15:47:52.054179Z"
    },
    "papermill": {
     "duration": 0.046679,
     "end_time": "2024-11-04T15:47:52.059614",
     "exception": false,
     "start_time": "2024-11-04T15:47:52.012935",
     "status": "completed"
    },
    "tags": []
   },
   "outputs": [
    {
     "data": {
      "text/html": [
       "<div>\n",
       "<style scoped>\n",
       "    .dataframe tbody tr th:only-of-type {\n",
       "        vertical-align: middle;\n",
       "    }\n",
       "\n",
       "    .dataframe tbody tr th {\n",
       "        vertical-align: top;\n",
       "    }\n",
       "\n",
       "    .dataframe thead th {\n",
       "        text-align: right;\n",
       "    }\n",
       "</style>\n",
       "<table border=\"1\" class=\"dataframe\">\n",
       "  <thead>\n",
       "    <tr style=\"text-align: right;\">\n",
       "      <th></th>\n",
       "      <th>NumberofDependents</th>\n",
       "      <th>ChurnCounts</th>\n",
       "      <th>ChurnRate</th>\n",
       "    </tr>\n",
       "  </thead>\n",
       "  <tbody>\n",
       "    <tr>\n",
       "      <th>0</th>\n",
       "      <td>0</td>\n",
       "      <td>1763</td>\n",
       "      <td>94.328518</td>\n",
       "    </tr>\n",
       "    <tr>\n",
       "      <th>1</th>\n",
       "      <td>1</td>\n",
       "      <td>38</td>\n",
       "      <td>2.033173</td>\n",
       "    </tr>\n",
       "    <tr>\n",
       "      <th>2</th>\n",
       "      <td>2</td>\n",
       "      <td>33</td>\n",
       "      <td>1.765650</td>\n",
       "    </tr>\n",
       "    <tr>\n",
       "      <th>3</th>\n",
       "      <td>3</td>\n",
       "      <td>30</td>\n",
       "      <td>1.605136</td>\n",
       "    </tr>\n",
       "    <tr>\n",
       "      <th>4</th>\n",
       "      <td>5</td>\n",
       "      <td>2</td>\n",
       "      <td>0.107009</td>\n",
       "    </tr>\n",
       "    <tr>\n",
       "      <th>5</th>\n",
       "      <td>4</td>\n",
       "      <td>1</td>\n",
       "      <td>0.053505</td>\n",
       "    </tr>\n",
       "    <tr>\n",
       "      <th>6</th>\n",
       "      <td>6</td>\n",
       "      <td>1</td>\n",
       "      <td>0.053505</td>\n",
       "    </tr>\n",
       "    <tr>\n",
       "      <th>7</th>\n",
       "      <td>7</td>\n",
       "      <td>1</td>\n",
       "      <td>0.053505</td>\n",
       "    </tr>\n",
       "  </tbody>\n",
       "</table>\n",
       "</div>"
      ],
      "text/plain": [
       "   NumberofDependents  ChurnCounts  ChurnRate\n",
       "0                   0         1763  94.328518\n",
       "1                   1           38   2.033173\n",
       "2                   2           33   1.765650\n",
       "3                   3           30   1.605136\n",
       "4                   5            2   0.107009\n",
       "5                   4            1   0.053505\n",
       "6                   6            1   0.053505\n",
       "7                   7            1   0.053505"
      ]
     },
     "execution_count": 15,
     "metadata": {},
     "output_type": "execute_result"
    }
   ],
   "source": [
    "# 13. Churn Rate by Number of Dependents for Q3\n",
    "churn_rate_by_number_of_dependents_query = \"\"\"\n",
    "SELECT NumberofDependents, COUNT(*) AS ChurnCounts, \n",
    "       (COUNT(*) * 1.0 / SUM(COUNT(*)) OVER ()) * 100 AS ChurnRate\n",
    "FROM TelcoCustomerChurn\n",
    "WHERE CustomerStatus = 'Churned'\n",
    "GROUP BY NumberofDependents\n",
    "ORDER BY ChurnRate DESC\n",
    "\"\"\"\n",
    "churn_rate_by_number_of_dependents_result = pd.read_sql_query(churn_rate_by_number_of_dependents_query, conn)\n",
    "churn_rate_by_number_of_dependents_result"
   ]
  },
  {
   "cell_type": "markdown",
   "id": "961dfeb8",
   "metadata": {
    "papermill": {
     "duration": 0.020915,
     "end_time": "2024-11-04T15:47:52.102794",
     "exception": false,
     "start_time": "2024-11-04T15:47:52.081879",
     "status": "completed"
    },
    "tags": []
   },
   "source": [
    "# Churn Rate by Gender, Marriage Status, and Number of Dependents\n",
    "\n",
    "This query evaluates how the combination of gender, marital status, and number of dependents affects churn behavior. By grouping customers based on these demographic factors, it provides a nuanced understanding of which segments are more likely to churn. This insight can help in designing targeted retention strategies for specific customer profiles."
   ]
  },
  {
   "cell_type": "code",
   "execution_count": 16,
   "id": "85bb2473",
   "metadata": {
    "execution": {
     "iopub.execute_input": "2024-11-04T15:47:52.155303Z",
     "iopub.status.busy": "2024-11-04T15:47:52.153212Z",
     "iopub.status.idle": "2024-11-04T15:47:52.180546Z",
     "shell.execute_reply": "2024-11-04T15:47:52.178344Z"
    },
    "papermill": {
     "duration": 0.055922,
     "end_time": "2024-11-04T15:47:52.183768",
     "exception": false,
     "start_time": "2024-11-04T15:47:52.127846",
     "status": "completed"
    },
    "tags": []
   },
   "outputs": [
    {
     "data": {
      "text/html": [
       "<div>\n",
       "<style scoped>\n",
       "    .dataframe tbody tr th:only-of-type {\n",
       "        vertical-align: middle;\n",
       "    }\n",
       "\n",
       "    .dataframe tbody tr th {\n",
       "        vertical-align: top;\n",
       "    }\n",
       "\n",
       "    .dataframe thead th {\n",
       "        text-align: right;\n",
       "    }\n",
       "</style>\n",
       "<table border=\"1\" class=\"dataframe\">\n",
       "  <thead>\n",
       "    <tr style=\"text-align: right;\">\n",
       "      <th></th>\n",
       "      <th>Gender</th>\n",
       "      <th>Married</th>\n",
       "      <th>NumberofDependents</th>\n",
       "      <th>ChurnCounts</th>\n",
       "      <th>ChurnRate</th>\n",
       "    </tr>\n",
       "  </thead>\n",
       "  <tbody>\n",
       "    <tr>\n",
       "      <th>0</th>\n",
       "      <td>Female</td>\n",
       "      <td>No</td>\n",
       "      <td>0</td>\n",
       "      <td>594</td>\n",
       "      <td>31.781701</td>\n",
       "    </tr>\n",
       "    <tr>\n",
       "      <th>1</th>\n",
       "      <td>Male</td>\n",
       "      <td>No</td>\n",
       "      <td>0</td>\n",
       "      <td>556</td>\n",
       "      <td>29.748529</td>\n",
       "    </tr>\n",
       "    <tr>\n",
       "      <th>2</th>\n",
       "      <td>Male</td>\n",
       "      <td>Yes</td>\n",
       "      <td>0</td>\n",
       "      <td>328</td>\n",
       "      <td>17.549492</td>\n",
       "    </tr>\n",
       "    <tr>\n",
       "      <th>3</th>\n",
       "      <td>Female</td>\n",
       "      <td>Yes</td>\n",
       "      <td>0</td>\n",
       "      <td>285</td>\n",
       "      <td>15.248796</td>\n",
       "    </tr>\n",
       "    <tr>\n",
       "      <th>4</th>\n",
       "      <td>Female</td>\n",
       "      <td>No</td>\n",
       "      <td>2</td>\n",
       "      <td>12</td>\n",
       "      <td>0.642055</td>\n",
       "    </tr>\n",
       "    <tr>\n",
       "      <th>5</th>\n",
       "      <td>Male</td>\n",
       "      <td>Yes</td>\n",
       "      <td>1</td>\n",
       "      <td>12</td>\n",
       "      <td>0.642055</td>\n",
       "    </tr>\n",
       "    <tr>\n",
       "      <th>6</th>\n",
       "      <td>Female</td>\n",
       "      <td>Yes</td>\n",
       "      <td>1</td>\n",
       "      <td>11</td>\n",
       "      <td>0.588550</td>\n",
       "    </tr>\n",
       "    <tr>\n",
       "      <th>7</th>\n",
       "      <td>Female</td>\n",
       "      <td>Yes</td>\n",
       "      <td>2</td>\n",
       "      <td>11</td>\n",
       "      <td>0.588550</td>\n",
       "    </tr>\n",
       "    <tr>\n",
       "      <th>8</th>\n",
       "      <td>Female</td>\n",
       "      <td>Yes</td>\n",
       "      <td>3</td>\n",
       "      <td>11</td>\n",
       "      <td>0.588550</td>\n",
       "    </tr>\n",
       "    <tr>\n",
       "      <th>9</th>\n",
       "      <td>Male</td>\n",
       "      <td>No</td>\n",
       "      <td>3</td>\n",
       "      <td>9</td>\n",
       "      <td>0.481541</td>\n",
       "    </tr>\n",
       "    <tr>\n",
       "      <th>10</th>\n",
       "      <td>Female</td>\n",
       "      <td>No</td>\n",
       "      <td>1</td>\n",
       "      <td>8</td>\n",
       "      <td>0.428036</td>\n",
       "    </tr>\n",
       "    <tr>\n",
       "      <th>11</th>\n",
       "      <td>Male</td>\n",
       "      <td>No</td>\n",
       "      <td>1</td>\n",
       "      <td>7</td>\n",
       "      <td>0.374532</td>\n",
       "    </tr>\n",
       "    <tr>\n",
       "      <th>12</th>\n",
       "      <td>Male</td>\n",
       "      <td>No</td>\n",
       "      <td>2</td>\n",
       "      <td>6</td>\n",
       "      <td>0.321027</td>\n",
       "    </tr>\n",
       "    <tr>\n",
       "      <th>13</th>\n",
       "      <td>Female</td>\n",
       "      <td>No</td>\n",
       "      <td>3</td>\n",
       "      <td>5</td>\n",
       "      <td>0.267523</td>\n",
       "    </tr>\n",
       "    <tr>\n",
       "      <th>14</th>\n",
       "      <td>Male</td>\n",
       "      <td>Yes</td>\n",
       "      <td>3</td>\n",
       "      <td>5</td>\n",
       "      <td>0.267523</td>\n",
       "    </tr>\n",
       "    <tr>\n",
       "      <th>15</th>\n",
       "      <td>Male</td>\n",
       "      <td>Yes</td>\n",
       "      <td>2</td>\n",
       "      <td>4</td>\n",
       "      <td>0.214018</td>\n",
       "    </tr>\n",
       "    <tr>\n",
       "      <th>16</th>\n",
       "      <td>Female</td>\n",
       "      <td>No</td>\n",
       "      <td>5</td>\n",
       "      <td>1</td>\n",
       "      <td>0.053505</td>\n",
       "    </tr>\n",
       "    <tr>\n",
       "      <th>17</th>\n",
       "      <td>Female</td>\n",
       "      <td>Yes</td>\n",
       "      <td>5</td>\n",
       "      <td>1</td>\n",
       "      <td>0.053505</td>\n",
       "    </tr>\n",
       "    <tr>\n",
       "      <th>18</th>\n",
       "      <td>Male</td>\n",
       "      <td>No</td>\n",
       "      <td>4</td>\n",
       "      <td>1</td>\n",
       "      <td>0.053505</td>\n",
       "    </tr>\n",
       "    <tr>\n",
       "      <th>19</th>\n",
       "      <td>Male</td>\n",
       "      <td>No</td>\n",
       "      <td>7</td>\n",
       "      <td>1</td>\n",
       "      <td>0.053505</td>\n",
       "    </tr>\n",
       "    <tr>\n",
       "      <th>20</th>\n",
       "      <td>Male</td>\n",
       "      <td>Yes</td>\n",
       "      <td>6</td>\n",
       "      <td>1</td>\n",
       "      <td>0.053505</td>\n",
       "    </tr>\n",
       "  </tbody>\n",
       "</table>\n",
       "</div>"
      ],
      "text/plain": [
       "    Gender Married  NumberofDependents  ChurnCounts  ChurnRate\n",
       "0   Female      No                   0          594  31.781701\n",
       "1     Male      No                   0          556  29.748529\n",
       "2     Male     Yes                   0          328  17.549492\n",
       "3   Female     Yes                   0          285  15.248796\n",
       "4   Female      No                   2           12   0.642055\n",
       "5     Male     Yes                   1           12   0.642055\n",
       "6   Female     Yes                   1           11   0.588550\n",
       "7   Female     Yes                   2           11   0.588550\n",
       "8   Female     Yes                   3           11   0.588550\n",
       "9     Male      No                   3            9   0.481541\n",
       "10  Female      No                   1            8   0.428036\n",
       "11    Male      No                   1            7   0.374532\n",
       "12    Male      No                   2            6   0.321027\n",
       "13  Female      No                   3            5   0.267523\n",
       "14    Male     Yes                   3            5   0.267523\n",
       "15    Male     Yes                   2            4   0.214018\n",
       "16  Female      No                   5            1   0.053505\n",
       "17  Female     Yes                   5            1   0.053505\n",
       "18    Male      No                   4            1   0.053505\n",
       "19    Male      No                   7            1   0.053505\n",
       "20    Male     Yes                   6            1   0.053505"
      ]
     },
     "execution_count": 16,
     "metadata": {},
     "output_type": "execute_result"
    }
   ],
   "source": [
    "# 14. Churn Rate by Gender, Marriage Status, and Number of Dependents for Q3\n",
    "churn_rate_by_gender_marriage_dependents_query = \"\"\"\n",
    "SELECT \n",
    "    Gender,\n",
    "    Married,\n",
    "    NumberofDependents,\n",
    "    COUNT(*) AS ChurnCounts,\n",
    "    (COUNT(*) * 1.0 / (SELECT COUNT(*) FROM TelcoCustomerChurn WHERE CustomerStatus = 'Churned')) * 100 AS ChurnRate\n",
    "FROM TelcoCustomerChurn\n",
    "WHERE CustomerStatus = 'Churned'\n",
    "GROUP BY Gender, Married, NumberofDependents\n",
    "ORDER BY ChurnRate DESC\n",
    "\"\"\"\n",
    "churn_rate_by_gender_marriage_dependents_result = pd.read_sql_query(churn_rate_by_gender_marriage_dependents_query, conn)\n",
    "churn_rate_by_gender_marriage_dependents_result"
   ]
  },
  {
   "cell_type": "markdown",
   "id": "051b22d8",
   "metadata": {
    "papermill": {
     "duration": 0.021672,
     "end_time": "2024-11-04T15:47:52.227656",
     "exception": false,
     "start_time": "2024-11-04T15:47:52.205984",
     "status": "completed"
    },
    "tags": []
   },
   "source": [
    "# Churn rate by city\n",
    "\n",
    "Calculates churn rates segmented by city, helping to identify geographic trends and potential regional issues affecting retention."
   ]
  },
  {
   "cell_type": "code",
   "execution_count": 17,
   "id": "8a7ddb54",
   "metadata": {
    "execution": {
     "iopub.execute_input": "2024-11-04T15:47:52.277236Z",
     "iopub.status.busy": "2024-11-04T15:47:52.274795Z",
     "iopub.status.idle": "2024-11-04T15:47:52.302003Z",
     "shell.execute_reply": "2024-11-04T15:47:52.300475Z"
    },
    "papermill": {
     "duration": 0.054822,
     "end_time": "2024-11-04T15:47:52.305173",
     "exception": false,
     "start_time": "2024-11-04T15:47:52.250351",
     "status": "completed"
    },
    "tags": []
   },
   "outputs": [
    {
     "data": {
      "text/html": [
       "<div>\n",
       "<style scoped>\n",
       "    .dataframe tbody tr th:only-of-type {\n",
       "        vertical-align: middle;\n",
       "    }\n",
       "\n",
       "    .dataframe tbody tr th {\n",
       "        vertical-align: top;\n",
       "    }\n",
       "\n",
       "    .dataframe thead th {\n",
       "        text-align: right;\n",
       "    }\n",
       "</style>\n",
       "<table border=\"1\" class=\"dataframe\">\n",
       "  <thead>\n",
       "    <tr style=\"text-align: right;\">\n",
       "      <th></th>\n",
       "      <th>City</th>\n",
       "      <th>ChurnCounts</th>\n",
       "      <th>ChurnRate</th>\n",
       "    </tr>\n",
       "  </thead>\n",
       "  <tbody>\n",
       "    <tr>\n",
       "      <th>0</th>\n",
       "      <td>San Diego</td>\n",
       "      <td>185</td>\n",
       "      <td>9.898341</td>\n",
       "    </tr>\n",
       "    <tr>\n",
       "      <th>1</th>\n",
       "      <td>Los Angeles</td>\n",
       "      <td>78</td>\n",
       "      <td>4.173355</td>\n",
       "    </tr>\n",
       "    <tr>\n",
       "      <th>2</th>\n",
       "      <td>San Francisco</td>\n",
       "      <td>31</td>\n",
       "      <td>1.658641</td>\n",
       "    </tr>\n",
       "    <tr>\n",
       "      <th>3</th>\n",
       "      <td>San Jose</td>\n",
       "      <td>29</td>\n",
       "      <td>1.551632</td>\n",
       "    </tr>\n",
       "    <tr>\n",
       "      <th>4</th>\n",
       "      <td>Fallbrook</td>\n",
       "      <td>26</td>\n",
       "      <td>1.391118</td>\n",
       "    </tr>\n",
       "    <tr>\n",
       "      <th>...</th>\n",
       "      <td>...</td>\n",
       "      <td>...</td>\n",
       "      <td>...</td>\n",
       "    </tr>\n",
       "    <tr>\n",
       "      <th>772</th>\n",
       "      <td>Woodland Hills</td>\n",
       "      <td>1</td>\n",
       "      <td>0.053505</td>\n",
       "    </tr>\n",
       "    <tr>\n",
       "      <th>773</th>\n",
       "      <td>Yermo</td>\n",
       "      <td>1</td>\n",
       "      <td>0.053505</td>\n",
       "    </tr>\n",
       "    <tr>\n",
       "      <th>774</th>\n",
       "      <td>Yorkville</td>\n",
       "      <td>1</td>\n",
       "      <td>0.053505</td>\n",
       "    </tr>\n",
       "    <tr>\n",
       "      <th>775</th>\n",
       "      <td>Yucaipa</td>\n",
       "      <td>1</td>\n",
       "      <td>0.053505</td>\n",
       "    </tr>\n",
       "    <tr>\n",
       "      <th>776</th>\n",
       "      <td>Zenia</td>\n",
       "      <td>1</td>\n",
       "      <td>0.053505</td>\n",
       "    </tr>\n",
       "  </tbody>\n",
       "</table>\n",
       "<p>777 rows × 3 columns</p>\n",
       "</div>"
      ],
      "text/plain": [
       "               City  ChurnCounts  ChurnRate\n",
       "0         San Diego          185   9.898341\n",
       "1       Los Angeles           78   4.173355\n",
       "2     San Francisco           31   1.658641\n",
       "3          San Jose           29   1.551632\n",
       "4         Fallbrook           26   1.391118\n",
       "..              ...          ...        ...\n",
       "772  Woodland Hills            1   0.053505\n",
       "773           Yermo            1   0.053505\n",
       "774       Yorkville            1   0.053505\n",
       "775         Yucaipa            1   0.053505\n",
       "776           Zenia            1   0.053505\n",
       "\n",
       "[777 rows x 3 columns]"
      ]
     },
     "execution_count": 17,
     "metadata": {},
     "output_type": "execute_result"
    }
   ],
   "source": [
    "# 15. Churn Rate by City for Q3\n",
    "churn_rate_by_city_query = \"\"\"\n",
    "SELECT City, COUNT(*) AS ChurnCounts, \n",
    "       (COUNT(*) * 1.0 / SUM(COUNT(*)) OVER ()) * 100 AS ChurnRate\n",
    "FROM TelcoCustomerChurn\n",
    "WHERE CustomerStatus = 'Churned'\n",
    "GROUP BY City\n",
    "ORDER BY ChurnRate DESC\n",
    "\"\"\"\n",
    "churn_rate_by_city_result = pd.read_sql_query(churn_rate_by_city_query, conn)\n",
    "churn_rate_by_city_result"
   ]
  },
  {
   "cell_type": "code",
   "execution_count": 18,
   "id": "faf700c4",
   "metadata": {
    "execution": {
     "iopub.execute_input": "2024-11-04T15:47:52.353179Z",
     "iopub.status.busy": "2024-11-04T15:47:52.352606Z",
     "iopub.status.idle": "2024-11-04T15:47:52.386323Z",
     "shell.execute_reply": "2024-11-04T15:47:52.384541Z"
    },
    "papermill": {
     "duration": 0.061167,
     "end_time": "2024-11-04T15:47:52.389899",
     "exception": false,
     "start_time": "2024-11-04T15:47:52.328732",
     "status": "completed"
    },
    "tags": []
   },
   "outputs": [
    {
     "data": {
      "text/html": [
       "<div>\n",
       "<style scoped>\n",
       "    .dataframe tbody tr th:only-of-type {\n",
       "        vertical-align: middle;\n",
       "    }\n",
       "\n",
       "    .dataframe tbody tr th {\n",
       "        vertical-align: top;\n",
       "    }\n",
       "\n",
       "    .dataframe thead th {\n",
       "        text-align: right;\n",
       "    }\n",
       "</style>\n",
       "<table border=\"1\" class=\"dataframe\">\n",
       "  <thead>\n",
       "    <tr style=\"text-align: right;\">\n",
       "      <th></th>\n",
       "      <th>City</th>\n",
       "      <th>TotalCustomers</th>\n",
       "      <th>ChurnCounts</th>\n",
       "      <th>ChurnRate</th>\n",
       "    </tr>\n",
       "  </thead>\n",
       "  <tbody>\n",
       "    <tr>\n",
       "      <th>0</th>\n",
       "      <td>San Diego</td>\n",
       "      <td>285</td>\n",
       "      <td>185</td>\n",
       "      <td>9.898341</td>\n",
       "    </tr>\n",
       "    <tr>\n",
       "      <th>1</th>\n",
       "      <td>Los Angeles</td>\n",
       "      <td>293</td>\n",
       "      <td>78</td>\n",
       "      <td>4.173355</td>\n",
       "    </tr>\n",
       "    <tr>\n",
       "      <th>2</th>\n",
       "      <td>San Francisco</td>\n",
       "      <td>104</td>\n",
       "      <td>31</td>\n",
       "      <td>1.658641</td>\n",
       "    </tr>\n",
       "    <tr>\n",
       "      <th>3</th>\n",
       "      <td>San Jose</td>\n",
       "      <td>112</td>\n",
       "      <td>29</td>\n",
       "      <td>1.551632</td>\n",
       "    </tr>\n",
       "    <tr>\n",
       "      <th>4</th>\n",
       "      <td>Sacramento</td>\n",
       "      <td>108</td>\n",
       "      <td>26</td>\n",
       "      <td>1.391118</td>\n",
       "    </tr>\n",
       "    <tr>\n",
       "      <th>...</th>\n",
       "      <td>...</td>\n",
       "      <td>...</td>\n",
       "      <td>...</td>\n",
       "      <td>...</td>\n",
       "    </tr>\n",
       "    <tr>\n",
       "      <th>1101</th>\n",
       "      <td>Aliso Viejo</td>\n",
       "      <td>4</td>\n",
       "      <td>0</td>\n",
       "      <td>0.000000</td>\n",
       "    </tr>\n",
       "    <tr>\n",
       "      <th>1102</th>\n",
       "      <td>Albion</td>\n",
       "      <td>4</td>\n",
       "      <td>0</td>\n",
       "      <td>0.000000</td>\n",
       "    </tr>\n",
       "    <tr>\n",
       "      <th>1103</th>\n",
       "      <td>Alamo</td>\n",
       "      <td>4</td>\n",
       "      <td>0</td>\n",
       "      <td>0.000000</td>\n",
       "    </tr>\n",
       "    <tr>\n",
       "      <th>1104</th>\n",
       "      <td>Alameda</td>\n",
       "      <td>8</td>\n",
       "      <td>0</td>\n",
       "      <td>0.000000</td>\n",
       "    </tr>\n",
       "    <tr>\n",
       "      <th>1105</th>\n",
       "      <td>Acton</td>\n",
       "      <td>4</td>\n",
       "      <td>0</td>\n",
       "      <td>0.000000</td>\n",
       "    </tr>\n",
       "  </tbody>\n",
       "</table>\n",
       "<p>1106 rows × 4 columns</p>\n",
       "</div>"
      ],
      "text/plain": [
       "               City  TotalCustomers  ChurnCounts  ChurnRate\n",
       "0         San Diego             285          185   9.898341\n",
       "1       Los Angeles             293           78   4.173355\n",
       "2     San Francisco             104           31   1.658641\n",
       "3          San Jose             112           29   1.551632\n",
       "4        Sacramento             108           26   1.391118\n",
       "...             ...             ...          ...        ...\n",
       "1101    Aliso Viejo               4            0   0.000000\n",
       "1102         Albion               4            0   0.000000\n",
       "1103          Alamo               4            0   0.000000\n",
       "1104        Alameda               8            0   0.000000\n",
       "1105          Acton               4            0   0.000000\n",
       "\n",
       "[1106 rows x 4 columns]"
      ]
     },
     "execution_count": 18,
     "metadata": {},
     "output_type": "execute_result"
    }
   ],
   "source": [
    "# 16. Churn Rate by City for Q3 (With Total Customers)\n",
    "churn_rate_by_city_with_total_query = \"\"\"\n",
    "SELECT City, \n",
    "       COUNT(*) AS TotalCustomers, \n",
    "       COUNT(CASE WHEN CustomerStatus = 'Churned' THEN 1 END) AS ChurnCounts, \n",
    "       (COUNT(CASE WHEN CustomerStatus = 'Churned' THEN 1 END) * 1.0 / (SELECT COUNT(*) FROM TelcoCustomerChurn WHERE CustomerStatus = 'Churned')) * 100 AS ChurnRate\n",
    "FROM TelcoCustomerChurn\n",
    "GROUP BY City\n",
    "ORDER BY ChurnRate DESC\n",
    "\"\"\"\n",
    "churn_rate_by_city_with_total_result = pd.read_sql_query(churn_rate_by_city_with_total_query, conn)\n",
    "churn_rate_by_city_with_total_result"
   ]
  },
  {
   "cell_type": "markdown",
   "id": "61d5d832",
   "metadata": {
    "papermill": {
     "duration": 0.024393,
     "end_time": "2024-11-04T15:47:52.436520",
     "exception": false,
     "start_time": "2024-11-04T15:47:52.412127",
     "status": "completed"
    },
    "tags": []
   },
   "source": [
    "# Churn rate by tenure\n",
    "\n",
    "Calculates the churn rate segmented by customer tenure, helping to understand how long customers stay before churning."
   ]
  },
  {
   "cell_type": "code",
   "execution_count": 19,
   "id": "011ff719",
   "metadata": {
    "execution": {
     "iopub.execute_input": "2024-11-04T15:47:52.485992Z",
     "iopub.status.busy": "2024-11-04T15:47:52.484168Z",
     "iopub.status.idle": "2024-11-04T15:47:52.508842Z",
     "shell.execute_reply": "2024-11-04T15:47:52.506578Z"
    },
    "papermill": {
     "duration": 0.053072,
     "end_time": "2024-11-04T15:47:52.512206",
     "exception": false,
     "start_time": "2024-11-04T15:47:52.459134",
     "status": "completed"
    },
    "tags": []
   },
   "outputs": [
    {
     "data": {
      "text/html": [
       "<div>\n",
       "<style scoped>\n",
       "    .dataframe tbody tr th:only-of-type {\n",
       "        vertical-align: middle;\n",
       "    }\n",
       "\n",
       "    .dataframe tbody tr th {\n",
       "        vertical-align: top;\n",
       "    }\n",
       "\n",
       "    .dataframe thead th {\n",
       "        text-align: right;\n",
       "    }\n",
       "</style>\n",
       "<table border=\"1\" class=\"dataframe\">\n",
       "  <thead>\n",
       "    <tr style=\"text-align: right;\">\n",
       "      <th></th>\n",
       "      <th>TenureRange</th>\n",
       "      <th>ChurnCounts</th>\n",
       "      <th>ChurnRate</th>\n",
       "    </tr>\n",
       "  </thead>\n",
       "  <tbody>\n",
       "    <tr>\n",
       "      <th>0</th>\n",
       "      <td>0-1 year</td>\n",
       "      <td>1037</td>\n",
       "      <td>55.484216</td>\n",
       "    </tr>\n",
       "    <tr>\n",
       "      <th>1</th>\n",
       "      <td>1-3 years</td>\n",
       "      <td>474</td>\n",
       "      <td>25.361156</td>\n",
       "    </tr>\n",
       "    <tr>\n",
       "      <th>2</th>\n",
       "      <td>3-5 years</td>\n",
       "      <td>265</td>\n",
       "      <td>14.178705</td>\n",
       "    </tr>\n",
       "    <tr>\n",
       "      <th>3</th>\n",
       "      <td>5+ years</td>\n",
       "      <td>93</td>\n",
       "      <td>4.975923</td>\n",
       "    </tr>\n",
       "  </tbody>\n",
       "</table>\n",
       "</div>"
      ],
      "text/plain": [
       "  TenureRange  ChurnCounts  ChurnRate\n",
       "0    0-1 year         1037  55.484216\n",
       "1   1-3 years          474  25.361156\n",
       "2   3-5 years          265  14.178705\n",
       "3    5+ years           93   4.975923"
      ]
     },
     "execution_count": 19,
     "metadata": {},
     "output_type": "execute_result"
    }
   ],
   "source": [
    "# 17. Churn Rate by Tenure Years for Q3\n",
    "churn_rate_by_tenure_years_query = \"\"\"\n",
    "SELECT \n",
    "    CASE \n",
    "        WHEN TenureinMonths BETWEEN 0 AND 12 THEN '0-1 year'\n",
    "        WHEN TenureinMonths BETWEEN 13 AND 36 THEN '1-3 years'\n",
    "        WHEN TenureinMonths BETWEEN 37 AND 60 THEN '3-5 years'\n",
    "        ELSE '5+ years'\n",
    "    END AS TenureRange,\n",
    "    COUNT(*) AS ChurnCounts,\n",
    "    (COUNT(*) * 1.0 / (SELECT COUNT(*) FROM TelcoCustomerChurn WHERE CustomerStatus = 'Churned')) * 100 AS ChurnRate\n",
    "FROM TelcoCustomerChurn\n",
    "WHERE CustomerStatus = 'Churned'\n",
    "GROUP BY \n",
    "    CASE \n",
    "        WHEN TenureinMonths BETWEEN 0 AND 12 THEN '0-1 year'\n",
    "        WHEN TenureinMonths BETWEEN 13 AND 36 THEN '1-3 years'\n",
    "        WHEN TenureinMonths BETWEEN 37 AND 60 THEN '3-5 years'\n",
    "        ELSE '5+ years'\n",
    "    END\n",
    "ORDER BY ChurnRate DESC\n",
    "\"\"\"\n",
    "churn_rate_by_tenure_years_result = pd.read_sql_query(churn_rate_by_tenure_years_query, conn)\n",
    "churn_rate_by_tenure_years_result"
   ]
  },
  {
   "cell_type": "markdown",
   "id": "ea781fdc",
   "metadata": {
    "papermill": {
     "duration": 0.022382,
     "end_time": "2024-11-04T15:47:52.558627",
     "exception": false,
     "start_time": "2024-11-04T15:47:52.536245",
     "status": "completed"
    },
    "tags": []
   },
   "source": [
    "# Churn rate by received offer\n",
    "\n",
    "Analyzes how receiving promotional offers impacts churn rates, revealing the effectiveness of marketing strategies on customer retention."
   ]
  },
  {
   "cell_type": "code",
   "execution_count": 20,
   "id": "5880b008",
   "metadata": {
    "execution": {
     "iopub.execute_input": "2024-11-04T15:47:52.608603Z",
     "iopub.status.busy": "2024-11-04T15:47:52.608089Z",
     "iopub.status.idle": "2024-11-04T15:47:52.629216Z",
     "shell.execute_reply": "2024-11-04T15:47:52.627458Z"
    },
    "papermill": {
     "duration": 0.049848,
     "end_time": "2024-11-04T15:47:52.632593",
     "exception": false,
     "start_time": "2024-11-04T15:47:52.582745",
     "status": "completed"
    },
    "tags": []
   },
   "outputs": [
    {
     "data": {
      "text/html": [
       "<div>\n",
       "<style scoped>\n",
       "    .dataframe tbody tr th:only-of-type {\n",
       "        vertical-align: middle;\n",
       "    }\n",
       "\n",
       "    .dataframe tbody tr th {\n",
       "        vertical-align: top;\n",
       "    }\n",
       "\n",
       "    .dataframe thead th {\n",
       "        text-align: right;\n",
       "    }\n",
       "</style>\n",
       "<table border=\"1\" class=\"dataframe\">\n",
       "  <thead>\n",
       "    <tr style=\"text-align: right;\">\n",
       "      <th></th>\n",
       "      <th>Offer</th>\n",
       "      <th>ChurnCounts</th>\n",
       "      <th>ChurnRate</th>\n",
       "    </tr>\n",
       "  </thead>\n",
       "  <tbody>\n",
       "    <tr>\n",
       "      <th>0</th>\n",
       "      <td>None</td>\n",
       "      <td>1051</td>\n",
       "      <td>56.233280</td>\n",
       "    </tr>\n",
       "    <tr>\n",
       "      <th>1</th>\n",
       "      <td>Offer E</td>\n",
       "      <td>426</td>\n",
       "      <td>22.792937</td>\n",
       "    </tr>\n",
       "    <tr>\n",
       "      <th>2</th>\n",
       "      <td>Offer D</td>\n",
       "      <td>161</td>\n",
       "      <td>8.614232</td>\n",
       "    </tr>\n",
       "    <tr>\n",
       "      <th>3</th>\n",
       "      <td>Offer B</td>\n",
       "      <td>101</td>\n",
       "      <td>5.403959</td>\n",
       "    </tr>\n",
       "    <tr>\n",
       "      <th>4</th>\n",
       "      <td>Offer C</td>\n",
       "      <td>95</td>\n",
       "      <td>5.082932</td>\n",
       "    </tr>\n",
       "    <tr>\n",
       "      <th>5</th>\n",
       "      <td>Offer A</td>\n",
       "      <td>35</td>\n",
       "      <td>1.872659</td>\n",
       "    </tr>\n",
       "  </tbody>\n",
       "</table>\n",
       "</div>"
      ],
      "text/plain": [
       "     Offer  ChurnCounts  ChurnRate\n",
       "0     None         1051  56.233280\n",
       "1  Offer E          426  22.792937\n",
       "2  Offer D          161   8.614232\n",
       "3  Offer B          101   5.403959\n",
       "4  Offer C           95   5.082932\n",
       "5  Offer A           35   1.872659"
      ]
     },
     "execution_count": 20,
     "metadata": {},
     "output_type": "execute_result"
    }
   ],
   "source": [
    "# 18. Churn Rate by Received Offer for Q3\n",
    "churn_rate_by_received_offer_query = \"\"\"\n",
    "SELECT Offer, COUNT(*) AS ChurnCounts, \n",
    "       (COUNT(*) * 1.0 / SUM(COUNT(*)) OVER ()) * 100 AS ChurnRate\n",
    "FROM TelcoCustomerChurn\n",
    "WHERE CustomerStatus = 'Churned'\n",
    "GROUP BY Offer\n",
    "ORDER BY ChurnRate DESC\n",
    "\"\"\"\n",
    "churn_rate_by_received_offer_result = pd.read_sql_query(churn_rate_by_received_offer_query, conn)\n",
    "churn_rate_by_received_offer_result"
   ]
  },
  {
   "cell_type": "markdown",
   "id": "b33d2a97",
   "metadata": {
    "papermill": {
     "duration": 0.022134,
     "end_time": "2024-11-04T15:47:52.677657",
     "exception": false,
     "start_time": "2024-11-04T15:47:52.655523",
     "status": "completed"
    },
    "tags": []
   },
   "source": [
    "# Calculate churn rate by phone service and multiple lines for Q3\n",
    "\n",
    "This query calculates the churn rate grouped by the type of phone service and whether customers have multiple lines, providing insights into service features that may affect churn."
   ]
  },
  {
   "cell_type": "code",
   "execution_count": 21,
   "id": "282cf0eb",
   "metadata": {
    "execution": {
     "iopub.execute_input": "2024-11-04T15:47:52.727772Z",
     "iopub.status.busy": "2024-11-04T15:47:52.727240Z",
     "iopub.status.idle": "2024-11-04T15:47:52.748501Z",
     "shell.execute_reply": "2024-11-04T15:47:52.747009Z"
    },
    "papermill": {
     "duration": 0.050876,
     "end_time": "2024-11-04T15:47:52.751999",
     "exception": false,
     "start_time": "2024-11-04T15:47:52.701123",
     "status": "completed"
    },
    "tags": []
   },
   "outputs": [
    {
     "data": {
      "text/html": [
       "<div>\n",
       "<style scoped>\n",
       "    .dataframe tbody tr th:only-of-type {\n",
       "        vertical-align: middle;\n",
       "    }\n",
       "\n",
       "    .dataframe tbody tr th {\n",
       "        vertical-align: top;\n",
       "    }\n",
       "\n",
       "    .dataframe thead th {\n",
       "        text-align: right;\n",
       "    }\n",
       "</style>\n",
       "<table border=\"1\" class=\"dataframe\">\n",
       "  <thead>\n",
       "    <tr style=\"text-align: right;\">\n",
       "      <th></th>\n",
       "      <th>PhoneService</th>\n",
       "      <th>MultipleLines</th>\n",
       "      <th>ChurnCounts</th>\n",
       "      <th>ChurnRate</th>\n",
       "    </tr>\n",
       "  </thead>\n",
       "  <tbody>\n",
       "    <tr>\n",
       "      <th>0</th>\n",
       "      <td>Yes</td>\n",
       "      <td>Yes</td>\n",
       "      <td>850</td>\n",
       "      <td>45.478866</td>\n",
       "    </tr>\n",
       "    <tr>\n",
       "      <th>1</th>\n",
       "      <td>Yes</td>\n",
       "      <td>No</td>\n",
       "      <td>849</td>\n",
       "      <td>45.425361</td>\n",
       "    </tr>\n",
       "    <tr>\n",
       "      <th>2</th>\n",
       "      <td>No</td>\n",
       "      <td>No</td>\n",
       "      <td>170</td>\n",
       "      <td>9.095773</td>\n",
       "    </tr>\n",
       "  </tbody>\n",
       "</table>\n",
       "</div>"
      ],
      "text/plain": [
       "  PhoneService MultipleLines  ChurnCounts  ChurnRate\n",
       "0          Yes           Yes          850  45.478866\n",
       "1          Yes            No          849  45.425361\n",
       "2           No            No          170   9.095773"
      ]
     },
     "execution_count": 21,
     "metadata": {},
     "output_type": "execute_result"
    }
   ],
   "source": [
    "# 19. Churn Rate by Phone Service and Multiple Lines for Q3\n",
    "churn_rate_by_phone_service_multiple_lines_query = \"\"\"\n",
    "SELECT PhoneService, MultipleLines, COUNT(*) AS ChurnCounts, \n",
    "       (COUNT(*) * 1.0 / SUM(COUNT(*)) OVER ()) * 100 AS ChurnRate\n",
    "FROM TelcoCustomerChurn\n",
    "WHERE CustomerStatus = 'Churned'\n",
    "GROUP BY PhoneService, MultipleLines\n",
    "ORDER BY ChurnRate DESC\n",
    "\"\"\"\n",
    "churn_rate_by_phone_service_multiple_lines_result = pd.read_sql_query(churn_rate_by_phone_service_multiple_lines_query, conn)\n",
    "churn_rate_by_phone_service_multiple_lines_result"
   ]
  },
  {
   "cell_type": "markdown",
   "id": "bbed193a",
   "metadata": {
    "papermill": {
     "duration": 0.023304,
     "end_time": "2024-11-04T15:47:52.798124",
     "exception": false,
     "start_time": "2024-11-04T15:47:52.774820",
     "status": "completed"
    },
    "tags": []
   },
   "source": [
    "# Calculate churn rate by phone service and internet service for Q3\n",
    "\n",
    "This query evaluates the churn rate based on the combination of phone service types and internet service, helping to identify which service pairings may have higher churn."
   ]
  },
  {
   "cell_type": "code",
   "execution_count": 22,
   "id": "f76a5e88",
   "metadata": {
    "execution": {
     "iopub.execute_input": "2024-11-04T15:47:52.847744Z",
     "iopub.status.busy": "2024-11-04T15:47:52.847241Z",
     "iopub.status.idle": "2024-11-04T15:47:52.867560Z",
     "shell.execute_reply": "2024-11-04T15:47:52.866125Z"
    },
    "papermill": {
     "duration": 0.049181,
     "end_time": "2024-11-04T15:47:52.870922",
     "exception": false,
     "start_time": "2024-11-04T15:47:52.821741",
     "status": "completed"
    },
    "tags": []
   },
   "outputs": [
    {
     "data": {
      "text/html": [
       "<div>\n",
       "<style scoped>\n",
       "    .dataframe tbody tr th:only-of-type {\n",
       "        vertical-align: middle;\n",
       "    }\n",
       "\n",
       "    .dataframe tbody tr th {\n",
       "        vertical-align: top;\n",
       "    }\n",
       "\n",
       "    .dataframe thead th {\n",
       "        text-align: right;\n",
       "    }\n",
       "</style>\n",
       "<table border=\"1\" class=\"dataframe\">\n",
       "  <thead>\n",
       "    <tr style=\"text-align: right;\">\n",
       "      <th></th>\n",
       "      <th>PhoneService</th>\n",
       "      <th>InternetService</th>\n",
       "      <th>ChurnCounts</th>\n",
       "      <th>ChurnRate</th>\n",
       "    </tr>\n",
       "  </thead>\n",
       "  <tbody>\n",
       "    <tr>\n",
       "      <th>0</th>\n",
       "      <td>Yes</td>\n",
       "      <td>Yes</td>\n",
       "      <td>1586</td>\n",
       "      <td>84.858213</td>\n",
       "    </tr>\n",
       "    <tr>\n",
       "      <th>1</th>\n",
       "      <td>No</td>\n",
       "      <td>Yes</td>\n",
       "      <td>170</td>\n",
       "      <td>9.095773</td>\n",
       "    </tr>\n",
       "    <tr>\n",
       "      <th>2</th>\n",
       "      <td>Yes</td>\n",
       "      <td>No</td>\n",
       "      <td>113</td>\n",
       "      <td>6.046014</td>\n",
       "    </tr>\n",
       "  </tbody>\n",
       "</table>\n",
       "</div>"
      ],
      "text/plain": [
       "  PhoneService InternetService  ChurnCounts  ChurnRate\n",
       "0          Yes             Yes         1586  84.858213\n",
       "1           No             Yes          170   9.095773\n",
       "2          Yes              No          113   6.046014"
      ]
     },
     "execution_count": 22,
     "metadata": {},
     "output_type": "execute_result"
    }
   ],
   "source": [
    "# 20. Churn Rate by Phone Service and Internet Service for Q3\n",
    "churn_rate_by_phone_service_internet_service_query = \"\"\"\n",
    "SELECT PhoneService, InternetService, COUNT(*) AS ChurnCounts, \n",
    "       (COUNT(*) * 1.0 / SUM(COUNT(*)) OVER ()) * 100 AS ChurnRate\n",
    "FROM TelcoCustomerChurn\n",
    "WHERE CustomerStatus = 'Churned'\n",
    "GROUP BY PhoneService, InternetService\n",
    "ORDER BY ChurnRate DESC\n",
    "\"\"\"\n",
    "churn_rate_by_phone_service_internet_service_result = pd.read_sql_query(churn_rate_by_phone_service_internet_service_query, conn)\n",
    "churn_rate_by_phone_service_internet_service_result"
   ]
  },
  {
   "cell_type": "markdown",
   "id": "aa7e4e6a",
   "metadata": {
    "papermill": {
     "duration": 0.022504,
     "end_time": "2024-11-04T15:47:52.916795",
     "exception": false,
     "start_time": "2024-11-04T15:47:52.894291",
     "status": "completed"
    },
    "tags": []
   },
   "source": [
    "# Calculate churn rate based on internet service types for Q3\n",
    "\n",
    "This query analyzes the churn rate specifically for different types of internet services provided to customers, indicating potential issues with particular internet offerings."
   ]
  },
  {
   "cell_type": "code",
   "execution_count": 23,
   "id": "e5257086",
   "metadata": {
    "execution": {
     "iopub.execute_input": "2024-11-04T15:47:52.970406Z",
     "iopub.status.busy": "2024-11-04T15:47:52.968789Z",
     "iopub.status.idle": "2024-11-04T15:47:52.988339Z",
     "shell.execute_reply": "2024-11-04T15:47:52.986161Z"
    },
    "papermill": {
     "duration": 0.051225,
     "end_time": "2024-11-04T15:47:52.991868",
     "exception": false,
     "start_time": "2024-11-04T15:47:52.940643",
     "status": "completed"
    },
    "tags": []
   },
   "outputs": [
    {
     "data": {
      "text/html": [
       "<div>\n",
       "<style scoped>\n",
       "    .dataframe tbody tr th:only-of-type {\n",
       "        vertical-align: middle;\n",
       "    }\n",
       "\n",
       "    .dataframe tbody tr th {\n",
       "        vertical-align: top;\n",
       "    }\n",
       "\n",
       "    .dataframe thead th {\n",
       "        text-align: right;\n",
       "    }\n",
       "</style>\n",
       "<table border=\"1\" class=\"dataframe\">\n",
       "  <thead>\n",
       "    <tr style=\"text-align: right;\">\n",
       "      <th></th>\n",
       "      <th>InternetType</th>\n",
       "      <th>ChurnCounts</th>\n",
       "      <th>ChurnRate</th>\n",
       "    </tr>\n",
       "  </thead>\n",
       "  <tbody>\n",
       "    <tr>\n",
       "      <th>0</th>\n",
       "      <td>Fiber Optic</td>\n",
       "      <td>1236</td>\n",
       "      <td>66.131621</td>\n",
       "    </tr>\n",
       "    <tr>\n",
       "      <th>1</th>\n",
       "      <td>DSL</td>\n",
       "      <td>307</td>\n",
       "      <td>16.425896</td>\n",
       "    </tr>\n",
       "    <tr>\n",
       "      <th>2</th>\n",
       "      <td>Cable</td>\n",
       "      <td>213</td>\n",
       "      <td>11.396469</td>\n",
       "    </tr>\n",
       "    <tr>\n",
       "      <th>3</th>\n",
       "      <td>None</td>\n",
       "      <td>113</td>\n",
       "      <td>6.046014</td>\n",
       "    </tr>\n",
       "  </tbody>\n",
       "</table>\n",
       "</div>"
      ],
      "text/plain": [
       "  InternetType  ChurnCounts  ChurnRate\n",
       "0  Fiber Optic         1236  66.131621\n",
       "1          DSL          307  16.425896\n",
       "2        Cable          213  11.396469\n",
       "3         None          113   6.046014"
      ]
     },
     "execution_count": 23,
     "metadata": {},
     "output_type": "execute_result"
    }
   ],
   "source": [
    "# 21. Churn Rate Based on Internet Service Types for Q3\n",
    "churn_rate_based_on_internet_service_query = \"\"\"\n",
    "SELECT InternetType, COUNT(*) AS ChurnCounts, \n",
    "       (COUNT(*) * 1.0 / SUM(COUNT(*)) OVER ()) * 100 AS ChurnRate\n",
    "FROM TelcoCustomerChurn\n",
    "WHERE CustomerStatus = 'Churned'\n",
    "GROUP BY InternetType\n",
    "ORDER BY ChurnRate DESC\n",
    "\"\"\"\n",
    "churn_rate_based_on_internet_service_result = pd.read_sql_query(churn_rate_based_on_internet_service_query, conn)\n",
    "churn_rate_based_on_internet_service_result"
   ]
  },
  {
   "cell_type": "markdown",
   "id": "ebf6b4a5",
   "metadata": {
    "papermill": {
     "duration": 0.024607,
     "end_time": "2024-11-04T15:47:53.042160",
     "exception": false,
     "start_time": "2024-11-04T15:47:53.017553",
     "status": "completed"
    },
    "tags": []
   },
   "source": [
    "# Churn rate by internet service, internet service types, average monthly GB download for Q3\n",
    "\n",
    "This query calculates the churn rate segmented by internet service, internet type, and average monthly GB downloaded, which may highlight the impact of usage on retention."
   ]
  },
  {
   "cell_type": "code",
   "execution_count": 24,
   "id": "ed0e705b",
   "metadata": {
    "execution": {
     "iopub.execute_input": "2024-11-04T15:47:53.092769Z",
     "iopub.status.busy": "2024-11-04T15:47:53.092224Z",
     "iopub.status.idle": "2024-11-04T15:47:53.115237Z",
     "shell.execute_reply": "2024-11-04T15:47:53.113591Z"
    },
    "papermill": {
     "duration": 0.052367,
     "end_time": "2024-11-04T15:47:53.118342",
     "exception": false,
     "start_time": "2024-11-04T15:47:53.065975",
     "status": "completed"
    },
    "tags": []
   },
   "outputs": [
    {
     "data": {
      "text/html": [
       "<div>\n",
       "<style scoped>\n",
       "    .dataframe tbody tr th:only-of-type {\n",
       "        vertical-align: middle;\n",
       "    }\n",
       "\n",
       "    .dataframe tbody tr th {\n",
       "        vertical-align: top;\n",
       "    }\n",
       "\n",
       "    .dataframe thead th {\n",
       "        text-align: right;\n",
       "    }\n",
       "</style>\n",
       "<table border=\"1\" class=\"dataframe\">\n",
       "  <thead>\n",
       "    <tr style=\"text-align: right;\">\n",
       "      <th></th>\n",
       "      <th>InternetService</th>\n",
       "      <th>InternetType</th>\n",
       "      <th>AvgMonthlyGBDownload</th>\n",
       "      <th>ChurnCounts</th>\n",
       "      <th>ChurnRate</th>\n",
       "    </tr>\n",
       "  </thead>\n",
       "  <tbody>\n",
       "    <tr>\n",
       "      <th>0</th>\n",
       "      <td>No</td>\n",
       "      <td>None</td>\n",
       "      <td>0</td>\n",
       "      <td>113</td>\n",
       "      <td>6.046014</td>\n",
       "    </tr>\n",
       "    <tr>\n",
       "      <th>1</th>\n",
       "      <td>Yes</td>\n",
       "      <td>Fiber Optic</td>\n",
       "      <td>27</td>\n",
       "      <td>56</td>\n",
       "      <td>2.996255</td>\n",
       "    </tr>\n",
       "    <tr>\n",
       "      <th>2</th>\n",
       "      <td>Yes</td>\n",
       "      <td>Fiber Optic</td>\n",
       "      <td>23</td>\n",
       "      <td>50</td>\n",
       "      <td>2.675227</td>\n",
       "    </tr>\n",
       "    <tr>\n",
       "      <th>3</th>\n",
       "      <td>Yes</td>\n",
       "      <td>Fiber Optic</td>\n",
       "      <td>11</td>\n",
       "      <td>45</td>\n",
       "      <td>2.407705</td>\n",
       "    </tr>\n",
       "    <tr>\n",
       "      <th>4</th>\n",
       "      <td>Yes</td>\n",
       "      <td>Fiber Optic</td>\n",
       "      <td>26</td>\n",
       "      <td>43</td>\n",
       "      <td>2.300696</td>\n",
       "    </tr>\n",
       "    <tr>\n",
       "      <th>...</th>\n",
       "      <td>...</td>\n",
       "      <td>...</td>\n",
       "      <td>...</td>\n",
       "      <td>...</td>\n",
       "      <td>...</td>\n",
       "    </tr>\n",
       "    <tr>\n",
       "      <th>132</th>\n",
       "      <td>Yes</td>\n",
       "      <td>DSL</td>\n",
       "      <td>56</td>\n",
       "      <td>1</td>\n",
       "      <td>0.053505</td>\n",
       "    </tr>\n",
       "    <tr>\n",
       "      <th>133</th>\n",
       "      <td>Yes</td>\n",
       "      <td>DSL</td>\n",
       "      <td>71</td>\n",
       "      <td>1</td>\n",
       "      <td>0.053505</td>\n",
       "    </tr>\n",
       "    <tr>\n",
       "      <th>134</th>\n",
       "      <td>Yes</td>\n",
       "      <td>Fiber Optic</td>\n",
       "      <td>39</td>\n",
       "      <td>1</td>\n",
       "      <td>0.053505</td>\n",
       "    </tr>\n",
       "    <tr>\n",
       "      <th>135</th>\n",
       "      <td>Yes</td>\n",
       "      <td>Fiber Optic</td>\n",
       "      <td>56</td>\n",
       "      <td>1</td>\n",
       "      <td>0.053505</td>\n",
       "    </tr>\n",
       "    <tr>\n",
       "      <th>136</th>\n",
       "      <td>Yes</td>\n",
       "      <td>Fiber Optic</td>\n",
       "      <td>57</td>\n",
       "      <td>1</td>\n",
       "      <td>0.053505</td>\n",
       "    </tr>\n",
       "  </tbody>\n",
       "</table>\n",
       "<p>137 rows × 5 columns</p>\n",
       "</div>"
      ],
      "text/plain": [
       "    InternetService InternetType  AvgMonthlyGBDownload  ChurnCounts  ChurnRate\n",
       "0                No         None                     0          113   6.046014\n",
       "1               Yes  Fiber Optic                    27           56   2.996255\n",
       "2               Yes  Fiber Optic                    23           50   2.675227\n",
       "3               Yes  Fiber Optic                    11           45   2.407705\n",
       "4               Yes  Fiber Optic                    26           43   2.300696\n",
       "..              ...          ...                   ...          ...        ...\n",
       "132             Yes          DSL                    56            1   0.053505\n",
       "133             Yes          DSL                    71            1   0.053505\n",
       "134             Yes  Fiber Optic                    39            1   0.053505\n",
       "135             Yes  Fiber Optic                    56            1   0.053505\n",
       "136             Yes  Fiber Optic                    57            1   0.053505\n",
       "\n",
       "[137 rows x 5 columns]"
      ]
     },
     "execution_count": 24,
     "metadata": {},
     "output_type": "execute_result"
    }
   ],
   "source": [
    "# 22. Churn Rate by Internet Service, Internet Service Types, Average Monthly GB Download for Q3\n",
    "churn_rate_by_internet_service_types_average_download_query = \"\"\"\n",
    "SELECT InternetService, InternetType, AvgMonthlyGBDownload, COUNT(*) AS ChurnCounts, \n",
    "       (COUNT(*) * 1.0 / SUM(COUNT(*)) OVER ()) * 100 AS ChurnRate\n",
    "FROM TelcoCustomerChurn\n",
    "WHERE CustomerStatus = 'Churned'\n",
    "GROUP BY InternetService, InternetType, AvgMonthlyGBDownload\n",
    "ORDER BY ChurnRate DESC\n",
    "\"\"\"\n",
    "churn_rate_by_internet_service_types_average_download_result = pd.read_sql_query(churn_rate_by_internet_service_types_average_download_query, conn)\n",
    "churn_rate_by_internet_service_types_average_download_result"
   ]
  },
  {
   "cell_type": "markdown",
   "id": "ae66f1c9",
   "metadata": {
    "papermill": {
     "duration": 0.024603,
     "end_time": "2024-11-04T15:47:53.166460",
     "exception": false,
     "start_time": "2024-11-04T15:47:53.141857",
     "status": "completed"
    },
    "tags": []
   },
   "source": [
    "# Calculate Q3 churn rate based on customers' online security for Q3\n",
    "# \n",
    "This query evaluates the churn rate among customers based on their use of online security features, helping to determine if security options influence customer loyalty."
   ]
  },
  {
   "cell_type": "code",
   "execution_count": 25,
   "id": "b69afb13",
   "metadata": {
    "execution": {
     "iopub.execute_input": "2024-11-04T15:47:53.216999Z",
     "iopub.status.busy": "2024-11-04T15:47:53.216390Z",
     "iopub.status.idle": "2024-11-04T15:47:53.235542Z",
     "shell.execute_reply": "2024-11-04T15:47:53.233981Z"
    },
    "papermill": {
     "duration": 0.048531,
     "end_time": "2024-11-04T15:47:53.238965",
     "exception": false,
     "start_time": "2024-11-04T15:47:53.190434",
     "status": "completed"
    },
    "tags": []
   },
   "outputs": [
    {
     "data": {
      "text/html": [
       "<div>\n",
       "<style scoped>\n",
       "    .dataframe tbody tr th:only-of-type {\n",
       "        vertical-align: middle;\n",
       "    }\n",
       "\n",
       "    .dataframe tbody tr th {\n",
       "        vertical-align: top;\n",
       "    }\n",
       "\n",
       "    .dataframe thead th {\n",
       "        text-align: right;\n",
       "    }\n",
       "</style>\n",
       "<table border=\"1\" class=\"dataframe\">\n",
       "  <thead>\n",
       "    <tr style=\"text-align: right;\">\n",
       "      <th></th>\n",
       "      <th>OnlineSecurity</th>\n",
       "      <th>ChurnCounts</th>\n",
       "      <th>ChurnRate</th>\n",
       "    </tr>\n",
       "  </thead>\n",
       "  <tbody>\n",
       "    <tr>\n",
       "      <th>0</th>\n",
       "      <td>No</td>\n",
       "      <td>1574</td>\n",
       "      <td>84.216158</td>\n",
       "    </tr>\n",
       "    <tr>\n",
       "      <th>1</th>\n",
       "      <td>Yes</td>\n",
       "      <td>295</td>\n",
       "      <td>15.783842</td>\n",
       "    </tr>\n",
       "  </tbody>\n",
       "</table>\n",
       "</div>"
      ],
      "text/plain": [
       "  OnlineSecurity  ChurnCounts  ChurnRate\n",
       "0             No         1574  84.216158\n",
       "1            Yes          295  15.783842"
      ]
     },
     "execution_count": 25,
     "metadata": {},
     "output_type": "execute_result"
    }
   ],
   "source": [
    "# 23. Churn Rate Based on Online Security for Q3\n",
    "churn_rate_based_on_online_security_query = \"\"\"\n",
    "SELECT OnlineSecurity, COUNT(*) AS ChurnCounts, \n",
    "       (COUNT(*) * 1.0 / SUM(COUNT(*)) OVER ()) * 100 AS ChurnRate\n",
    "FROM TelcoCustomerChurn\n",
    "WHERE CustomerStatus = 'Churned'\n",
    "GROUP BY OnlineSecurity\n",
    "ORDER BY ChurnRate DESC\n",
    "\"\"\"\n",
    "churn_rate_based_on_online_security_result = pd.read_sql_query(churn_rate_based_on_online_security_query, conn)\n",
    "churn_rate_based_on_online_security_result"
   ]
  },
  {
   "cell_type": "markdown",
   "id": "efbfe928",
   "metadata": {
    "papermill": {
     "duration": 0.02518,
     "end_time": "2024-11-04T15:47:53.289475",
     "exception": false,
     "start_time": "2024-11-04T15:47:53.264295",
     "status": "completed"
    },
    "tags": []
   },
   "source": [
    "# Calculate churn rate by online security, online backup, device protection, and premium tech support for Q3\n",
    "\n",
    "This query assesses how various support features, such as online security, backup, device protection, and premium tech support, impact churn rates, indicating the importance of customer support services."
   ]
  },
  {
   "cell_type": "code",
   "execution_count": 26,
   "id": "30abffbb",
   "metadata": {
    "execution": {
     "iopub.execute_input": "2024-11-04T15:47:53.343313Z",
     "iopub.status.busy": "2024-11-04T15:47:53.342721Z",
     "iopub.status.idle": "2024-11-04T15:47:53.370550Z",
     "shell.execute_reply": "2024-11-04T15:47:53.369189Z"
    },
    "papermill": {
     "duration": 0.060963,
     "end_time": "2024-11-04T15:47:53.375095",
     "exception": false,
     "start_time": "2024-11-04T15:47:53.314132",
     "status": "completed"
    },
    "tags": []
   },
   "outputs": [
    {
     "data": {
      "text/html": [
       "<div>\n",
       "<style scoped>\n",
       "    .dataframe tbody tr th:only-of-type {\n",
       "        vertical-align: middle;\n",
       "    }\n",
       "\n",
       "    .dataframe tbody tr th {\n",
       "        vertical-align: top;\n",
       "    }\n",
       "\n",
       "    .dataframe thead th {\n",
       "        text-align: right;\n",
       "    }\n",
       "</style>\n",
       "<table border=\"1\" class=\"dataframe\">\n",
       "  <thead>\n",
       "    <tr style=\"text-align: right;\">\n",
       "      <th></th>\n",
       "      <th>OnlineSecurity</th>\n",
       "      <th>OnlineBackup</th>\n",
       "      <th>DeviceProtectionPlan</th>\n",
       "      <th>PremiumTechSupport</th>\n",
       "      <th>ChurnCounts</th>\n",
       "      <th>ChurnRate</th>\n",
       "    </tr>\n",
       "  </thead>\n",
       "  <tbody>\n",
       "    <tr>\n",
       "      <th>0</th>\n",
       "      <td>No</td>\n",
       "      <td>No</td>\n",
       "      <td>No</td>\n",
       "      <td>No</td>\n",
       "      <td>831</td>\n",
       "      <td>44.462279</td>\n",
       "    </tr>\n",
       "    <tr>\n",
       "      <th>1</th>\n",
       "      <td>No</td>\n",
       "      <td>No</td>\n",
       "      <td>Yes</td>\n",
       "      <td>No</td>\n",
       "      <td>207</td>\n",
       "      <td>11.075441</td>\n",
       "    </tr>\n",
       "    <tr>\n",
       "      <th>2</th>\n",
       "      <td>No</td>\n",
       "      <td>Yes</td>\n",
       "      <td>No</td>\n",
       "      <td>No</td>\n",
       "      <td>196</td>\n",
       "      <td>10.486891</td>\n",
       "    </tr>\n",
       "    <tr>\n",
       "      <th>3</th>\n",
       "      <td>No</td>\n",
       "      <td>Yes</td>\n",
       "      <td>Yes</td>\n",
       "      <td>No</td>\n",
       "      <td>129</td>\n",
       "      <td>6.902087</td>\n",
       "    </tr>\n",
       "    <tr>\n",
       "      <th>4</th>\n",
       "      <td>Yes</td>\n",
       "      <td>No</td>\n",
       "      <td>No</td>\n",
       "      <td>No</td>\n",
       "      <td>92</td>\n",
       "      <td>4.922418</td>\n",
       "    </tr>\n",
       "    <tr>\n",
       "      <th>5</th>\n",
       "      <td>No</td>\n",
       "      <td>No</td>\n",
       "      <td>No</td>\n",
       "      <td>Yes</td>\n",
       "      <td>75</td>\n",
       "      <td>4.012841</td>\n",
       "    </tr>\n",
       "    <tr>\n",
       "      <th>6</th>\n",
       "      <td>No</td>\n",
       "      <td>No</td>\n",
       "      <td>Yes</td>\n",
       "      <td>Yes</td>\n",
       "      <td>57</td>\n",
       "      <td>3.049759</td>\n",
       "    </tr>\n",
       "    <tr>\n",
       "      <th>7</th>\n",
       "      <td>Yes</td>\n",
       "      <td>Yes</td>\n",
       "      <td>No</td>\n",
       "      <td>No</td>\n",
       "      <td>42</td>\n",
       "      <td>2.247191</td>\n",
       "    </tr>\n",
       "    <tr>\n",
       "      <th>8</th>\n",
       "      <td>No</td>\n",
       "      <td>Yes</td>\n",
       "      <td>No</td>\n",
       "      <td>Yes</td>\n",
       "      <td>40</td>\n",
       "      <td>2.140182</td>\n",
       "    </tr>\n",
       "    <tr>\n",
       "      <th>9</th>\n",
       "      <td>No</td>\n",
       "      <td>Yes</td>\n",
       "      <td>Yes</td>\n",
       "      <td>Yes</td>\n",
       "      <td>39</td>\n",
       "      <td>2.086677</td>\n",
       "    </tr>\n",
       "    <tr>\n",
       "      <th>10</th>\n",
       "      <td>Yes</td>\n",
       "      <td>No</td>\n",
       "      <td>Yes</td>\n",
       "      <td>No</td>\n",
       "      <td>32</td>\n",
       "      <td>1.712146</td>\n",
       "    </tr>\n",
       "    <tr>\n",
       "      <th>11</th>\n",
       "      <td>Yes</td>\n",
       "      <td>Yes</td>\n",
       "      <td>Yes</td>\n",
       "      <td>No</td>\n",
       "      <td>30</td>\n",
       "      <td>1.605136</td>\n",
       "    </tr>\n",
       "    <tr>\n",
       "      <th>12</th>\n",
       "      <td>Yes</td>\n",
       "      <td>No</td>\n",
       "      <td>No</td>\n",
       "      <td>Yes</td>\n",
       "      <td>26</td>\n",
       "      <td>1.391118</td>\n",
       "    </tr>\n",
       "    <tr>\n",
       "      <th>13</th>\n",
       "      <td>Yes</td>\n",
       "      <td>No</td>\n",
       "      <td>Yes</td>\n",
       "      <td>Yes</td>\n",
       "      <td>26</td>\n",
       "      <td>1.391118</td>\n",
       "    </tr>\n",
       "    <tr>\n",
       "      <th>14</th>\n",
       "      <td>Yes</td>\n",
       "      <td>Yes</td>\n",
       "      <td>Yes</td>\n",
       "      <td>Yes</td>\n",
       "      <td>25</td>\n",
       "      <td>1.337614</td>\n",
       "    </tr>\n",
       "    <tr>\n",
       "      <th>15</th>\n",
       "      <td>Yes</td>\n",
       "      <td>Yes</td>\n",
       "      <td>No</td>\n",
       "      <td>Yes</td>\n",
       "      <td>22</td>\n",
       "      <td>1.177100</td>\n",
       "    </tr>\n",
       "  </tbody>\n",
       "</table>\n",
       "</div>"
      ],
      "text/plain": [
       "   OnlineSecurity OnlineBackup DeviceProtectionPlan PremiumTechSupport  \\\n",
       "0              No           No                   No                 No   \n",
       "1              No           No                  Yes                 No   \n",
       "2              No          Yes                   No                 No   \n",
       "3              No          Yes                  Yes                 No   \n",
       "4             Yes           No                   No                 No   \n",
       "5              No           No                   No                Yes   \n",
       "6              No           No                  Yes                Yes   \n",
       "7             Yes          Yes                   No                 No   \n",
       "8              No          Yes                   No                Yes   \n",
       "9              No          Yes                  Yes                Yes   \n",
       "10            Yes           No                  Yes                 No   \n",
       "11            Yes          Yes                  Yes                 No   \n",
       "12            Yes           No                   No                Yes   \n",
       "13            Yes           No                  Yes                Yes   \n",
       "14            Yes          Yes                  Yes                Yes   \n",
       "15            Yes          Yes                   No                Yes   \n",
       "\n",
       "    ChurnCounts  ChurnRate  \n",
       "0           831  44.462279  \n",
       "1           207  11.075441  \n",
       "2           196  10.486891  \n",
       "3           129   6.902087  \n",
       "4            92   4.922418  \n",
       "5            75   4.012841  \n",
       "6            57   3.049759  \n",
       "7            42   2.247191  \n",
       "8            40   2.140182  \n",
       "9            39   2.086677  \n",
       "10           32   1.712146  \n",
       "11           30   1.605136  \n",
       "12           26   1.391118  \n",
       "13           26   1.391118  \n",
       "14           25   1.337614  \n",
       "15           22   1.177100  "
      ]
     },
     "execution_count": 26,
     "metadata": {},
     "output_type": "execute_result"
    }
   ],
   "source": [
    "# 24. Churn Rate by Online Security, Online Backup, Device Protection, and Premium Tech Support for Q3\n",
    "churn_rate_by_security_backup_device_support_query = \"\"\"\n",
    "SELECT OnlineSecurity, OnlineBackup, DeviceProtectionPlan, PremiumTechSupport, COUNT(*) AS ChurnCounts, \n",
    "       (COUNT(*) * 1.0 / SUM(COUNT(*)) OVER ()) * 100 AS ChurnRate\n",
    "FROM TelcoCustomerChurn\n",
    "WHERE CustomerStatus = 'Churned'\n",
    "GROUP BY OnlineSecurity, OnlineBackup, DeviceProtectionPlan, PremiumTechSupport\n",
    "ORDER BY ChurnRate DESC\n",
    "\"\"\"\n",
    "churn_rate_by_security_backup_device_support_result = pd.read_sql_query(churn_rate_by_security_backup_device_support_query, conn)\n",
    "churn_rate_by_security_backup_device_support_result"
   ]
  },
  {
   "cell_type": "markdown",
   "id": "d7f81914",
   "metadata": {
    "papermill": {
     "duration": 0.039173,
     "end_time": "2024-11-04T15:47:53.444697",
     "exception": false,
     "start_time": "2024-11-04T15:47:53.405524",
     "status": "completed"
    },
    "tags": []
   },
   "source": [
    "# Calculate churn rate by streaming TV, streaming movies, and streaming music for Q3\n",
    "\n",
    "This query analyzes the churn rate based on customers' subscriptions to streaming TV, movies, and music services, providing insights into how entertainment options affect customer retention."
   ]
  },
  {
   "cell_type": "code",
   "execution_count": 27,
   "id": "9066a534",
   "metadata": {
    "execution": {
     "iopub.execute_input": "2024-11-04T15:47:53.504165Z",
     "iopub.status.busy": "2024-11-04T15:47:53.503529Z",
     "iopub.status.idle": "2024-11-04T15:47:53.526302Z",
     "shell.execute_reply": "2024-11-04T15:47:53.524448Z"
    },
    "papermill": {
     "duration": 0.054446,
     "end_time": "2024-11-04T15:47:53.530069",
     "exception": false,
     "start_time": "2024-11-04T15:47:53.475623",
     "status": "completed"
    },
    "tags": []
   },
   "outputs": [
    {
     "data": {
      "text/html": [
       "<div>\n",
       "<style scoped>\n",
       "    .dataframe tbody tr th:only-of-type {\n",
       "        vertical-align: middle;\n",
       "    }\n",
       "\n",
       "    .dataframe tbody tr th {\n",
       "        vertical-align: top;\n",
       "    }\n",
       "\n",
       "    .dataframe thead th {\n",
       "        text-align: right;\n",
       "    }\n",
       "</style>\n",
       "<table border=\"1\" class=\"dataframe\">\n",
       "  <thead>\n",
       "    <tr style=\"text-align: right;\">\n",
       "      <th></th>\n",
       "      <th>StreamingTV</th>\n",
       "      <th>StreamingMovies</th>\n",
       "      <th>StreamingMusic</th>\n",
       "      <th>ChurnCounts</th>\n",
       "      <th>ChurnRate</th>\n",
       "    </tr>\n",
       "  </thead>\n",
       "  <tbody>\n",
       "    <tr>\n",
       "      <th>0</th>\n",
       "      <td>No</td>\n",
       "      <td>No</td>\n",
       "      <td>No</td>\n",
       "      <td>744</td>\n",
       "      <td>39.807384</td>\n",
       "    </tr>\n",
       "    <tr>\n",
       "      <th>1</th>\n",
       "      <td>Yes</td>\n",
       "      <td>Yes</td>\n",
       "      <td>Yes</td>\n",
       "      <td>450</td>\n",
       "      <td>24.077047</td>\n",
       "    </tr>\n",
       "    <tr>\n",
       "      <th>2</th>\n",
       "      <td>Yes</td>\n",
       "      <td>No</td>\n",
       "      <td>No</td>\n",
       "      <td>220</td>\n",
       "      <td>11.771001</td>\n",
       "    </tr>\n",
       "    <tr>\n",
       "      <th>3</th>\n",
       "      <td>No</td>\n",
       "      <td>Yes</td>\n",
       "      <td>Yes</td>\n",
       "      <td>191</td>\n",
       "      <td>10.219369</td>\n",
       "    </tr>\n",
       "    <tr>\n",
       "      <th>4</th>\n",
       "      <td>Yes</td>\n",
       "      <td>Yes</td>\n",
       "      <td>No</td>\n",
       "      <td>121</td>\n",
       "      <td>6.474050</td>\n",
       "    </tr>\n",
       "    <tr>\n",
       "      <th>5</th>\n",
       "      <td>No</td>\n",
       "      <td>No</td>\n",
       "      <td>Yes</td>\n",
       "      <td>64</td>\n",
       "      <td>3.424291</td>\n",
       "    </tr>\n",
       "    <tr>\n",
       "      <th>6</th>\n",
       "      <td>No</td>\n",
       "      <td>Yes</td>\n",
       "      <td>No</td>\n",
       "      <td>56</td>\n",
       "      <td>2.996255</td>\n",
       "    </tr>\n",
       "    <tr>\n",
       "      <th>7</th>\n",
       "      <td>Yes</td>\n",
       "      <td>No</td>\n",
       "      <td>Yes</td>\n",
       "      <td>23</td>\n",
       "      <td>1.230605</td>\n",
       "    </tr>\n",
       "  </tbody>\n",
       "</table>\n",
       "</div>"
      ],
      "text/plain": [
       "  StreamingTV StreamingMovies StreamingMusic  ChurnCounts  ChurnRate\n",
       "0          No              No             No          744  39.807384\n",
       "1         Yes             Yes            Yes          450  24.077047\n",
       "2         Yes              No             No          220  11.771001\n",
       "3          No             Yes            Yes          191  10.219369\n",
       "4         Yes             Yes             No          121   6.474050\n",
       "5          No              No            Yes           64   3.424291\n",
       "6          No             Yes             No           56   2.996255\n",
       "7         Yes              No            Yes           23   1.230605"
      ]
     },
     "execution_count": 27,
     "metadata": {},
     "output_type": "execute_result"
    }
   ],
   "source": [
    "# 25. Churn Rate by Streaming TV, Streaming Movies, and Streaming Music for Q3\n",
    "churn_rate_by_streaming_services_query = \"\"\"\n",
    "SELECT StreamingTV, StreamingMovies, StreamingMusic, COUNT(*) AS ChurnCounts, \n",
    "       (COUNT(*) * 1.0 / SUM(COUNT(*)) OVER ()) * 100 AS ChurnRate\n",
    "FROM TelcoCustomerChurn\n",
    "WHERE CustomerStatus = 'Churned'\n",
    "GROUP BY StreamingTV, StreamingMovies, StreamingMusic\n",
    "ORDER BY ChurnRate DESC\n",
    "\"\"\"\n",
    "churn_rate_by_streaming_services_result = pd.read_sql_query(churn_rate_by_streaming_services_query, conn)\n",
    "churn_rate_by_streaming_services_result"
   ]
  },
  {
   "cell_type": "markdown",
   "id": "f28dc9e8",
   "metadata": {
    "papermill": {
     "duration": 0.034261,
     "end_time": "2024-11-04T15:47:53.590379",
     "exception": false,
     "start_time": "2024-11-04T15:47:53.556118",
     "status": "completed"
    },
    "tags": []
   },
   "source": [
    "# Calculate churn rate by contract\n",
    "\n",
    "This query evaluates the churn rate across different types of customer contracts, which can indicate how contract terms relate to customer retention."
   ]
  },
  {
   "cell_type": "code",
   "execution_count": 28,
   "id": "340950b7",
   "metadata": {
    "execution": {
     "iopub.execute_input": "2024-11-04T15:47:53.657594Z",
     "iopub.status.busy": "2024-11-04T15:47:53.654927Z",
     "iopub.status.idle": "2024-11-04T15:47:53.679437Z",
     "shell.execute_reply": "2024-11-04T15:47:53.677912Z"
    },
    "papermill": {
     "duration": 0.06007,
     "end_time": "2024-11-04T15:47:53.683070",
     "exception": false,
     "start_time": "2024-11-04T15:47:53.623000",
     "status": "completed"
    },
    "tags": []
   },
   "outputs": [
    {
     "data": {
      "text/html": [
       "<div>\n",
       "<style scoped>\n",
       "    .dataframe tbody tr th:only-of-type {\n",
       "        vertical-align: middle;\n",
       "    }\n",
       "\n",
       "    .dataframe tbody tr th {\n",
       "        vertical-align: top;\n",
       "    }\n",
       "\n",
       "    .dataframe thead th {\n",
       "        text-align: right;\n",
       "    }\n",
       "</style>\n",
       "<table border=\"1\" class=\"dataframe\">\n",
       "  <thead>\n",
       "    <tr style=\"text-align: right;\">\n",
       "      <th></th>\n",
       "      <th>Contract</th>\n",
       "      <th>ChurnCounts</th>\n",
       "      <th>ChurnRate</th>\n",
       "    </tr>\n",
       "  </thead>\n",
       "  <tbody>\n",
       "    <tr>\n",
       "      <th>0</th>\n",
       "      <td>Month-to-Month</td>\n",
       "      <td>1655</td>\n",
       "      <td>88.550027</td>\n",
       "    </tr>\n",
       "    <tr>\n",
       "      <th>1</th>\n",
       "      <td>One Year</td>\n",
       "      <td>166</td>\n",
       "      <td>8.881755</td>\n",
       "    </tr>\n",
       "    <tr>\n",
       "      <th>2</th>\n",
       "      <td>Two Year</td>\n",
       "      <td>48</td>\n",
       "      <td>2.568218</td>\n",
       "    </tr>\n",
       "  </tbody>\n",
       "</table>\n",
       "</div>"
      ],
      "text/plain": [
       "         Contract  ChurnCounts  ChurnRate\n",
       "0  Month-to-Month         1655  88.550027\n",
       "1        One Year          166   8.881755\n",
       "2        Two Year           48   2.568218"
      ]
     },
     "execution_count": 28,
     "metadata": {},
     "output_type": "execute_result"
    }
   ],
   "source": [
    "# 26. Churn Rate by Contract for Q3\n",
    "churn_rate_by_contract_query = \"\"\"\n",
    "SELECT Contract, COUNT(*) AS ChurnCounts, \n",
    "       (COUNT(*) * 1.0 / SUM(COUNT(*)) OVER ()) * 100 AS ChurnRate\n",
    "FROM TelcoCustomerChurn\n",
    "WHERE CustomerStatus = 'Churned'\n",
    "GROUP BY Contract\n",
    "ORDER BY ChurnRate DESC\n",
    "\"\"\"\n",
    "churn_rate_by_contract_result = pd.read_sql_query(churn_rate_by_contract_query, conn)\n",
    "churn_rate_by_contract_result"
   ]
  },
  {
   "cell_type": "markdown",
   "id": "025e34e5",
   "metadata": {
    "papermill": {
     "duration": 0.032948,
     "end_time": "2024-11-04T15:47:53.744378",
     "exception": false,
     "start_time": "2024-11-04T15:47:53.711430",
     "status": "completed"
    },
    "tags": []
   },
   "source": [
    "# Calculate churn rate by payment method # \n",
    "This query analyzes the churn rate for customers based on their chosen payment methods, which may reveal preferences or issues related to billing."
   ]
  },
  {
   "cell_type": "code",
   "execution_count": 29,
   "id": "5d9cf92f",
   "metadata": {
    "execution": {
     "iopub.execute_input": "2024-11-04T15:47:53.807290Z",
     "iopub.status.busy": "2024-11-04T15:47:53.806681Z",
     "iopub.status.idle": "2024-11-04T15:47:53.829103Z",
     "shell.execute_reply": "2024-11-04T15:47:53.827165Z"
    },
    "papermill": {
     "duration": 0.057144,
     "end_time": "2024-11-04T15:47:53.833920",
     "exception": false,
     "start_time": "2024-11-04T15:47:53.776776",
     "status": "completed"
    },
    "tags": []
   },
   "outputs": [
    {
     "data": {
      "text/html": [
       "<div>\n",
       "<style scoped>\n",
       "    .dataframe tbody tr th:only-of-type {\n",
       "        vertical-align: middle;\n",
       "    }\n",
       "\n",
       "    .dataframe tbody tr th {\n",
       "        vertical-align: top;\n",
       "    }\n",
       "\n",
       "    .dataframe thead th {\n",
       "        text-align: right;\n",
       "    }\n",
       "</style>\n",
       "<table border=\"1\" class=\"dataframe\">\n",
       "  <thead>\n",
       "    <tr style=\"text-align: right;\">\n",
       "      <th></th>\n",
       "      <th>PaymentMethod</th>\n",
       "      <th>ChurnCounts</th>\n",
       "      <th>ChurnRate</th>\n",
       "    </tr>\n",
       "  </thead>\n",
       "  <tbody>\n",
       "    <tr>\n",
       "      <th>0</th>\n",
       "      <td>Bank Withdrawal</td>\n",
       "      <td>1329</td>\n",
       "      <td>71.107544</td>\n",
       "    </tr>\n",
       "    <tr>\n",
       "      <th>1</th>\n",
       "      <td>Credit Card</td>\n",
       "      <td>398</td>\n",
       "      <td>21.294810</td>\n",
       "    </tr>\n",
       "    <tr>\n",
       "      <th>2</th>\n",
       "      <td>Mailed Check</td>\n",
       "      <td>142</td>\n",
       "      <td>7.597646</td>\n",
       "    </tr>\n",
       "  </tbody>\n",
       "</table>\n",
       "</div>"
      ],
      "text/plain": [
       "     PaymentMethod  ChurnCounts  ChurnRate\n",
       "0  Bank Withdrawal         1329  71.107544\n",
       "1      Credit Card          398  21.294810\n",
       "2     Mailed Check          142   7.597646"
      ]
     },
     "execution_count": 29,
     "metadata": {},
     "output_type": "execute_result"
    }
   ],
   "source": [
    "# 27. Churn Rate by Payment Method for Q3\n",
    "churn_rate_by_payment_method_query = \"\"\"\n",
    "SELECT PaymentMethod, COUNT(*) AS ChurnCounts, \n",
    "       (COUNT(*) * 1.0 / SUM(COUNT(*)) OVER ()) * 100 AS ChurnRate\n",
    "FROM TelcoCustomerChurn\n",
    "WHERE CustomerStatus = 'Churned'\n",
    "GROUP BY PaymentMethod\n",
    "ORDER BY ChurnRate DESC\n",
    "\"\"\"\n",
    "churn_rate_by_payment_method_result = pd.read_sql_query(churn_rate_by_payment_method_query, conn)\n",
    "churn_rate_by_payment_method_result"
   ]
  },
  {
   "cell_type": "markdown",
   "id": "5dc4f77f",
   "metadata": {
    "papermill": {
     "duration": 0.026774,
     "end_time": "2024-11-04T15:47:53.892362",
     "exception": false,
     "start_time": "2024-11-04T15:47:53.865588",
     "status": "completed"
    },
    "tags": []
   },
   "source": [
    "# Calculate churn rate by monthly charges\n",
    "\n",
    "This query segments customers by their monthly charges and computes the churn rate for each charge segment, helping to identify if pricing influences churn."
   ]
  },
  {
   "cell_type": "code",
   "execution_count": 30,
   "id": "c25f4b13",
   "metadata": {
    "execution": {
     "iopub.execute_input": "2024-11-04T15:47:53.946783Z",
     "iopub.status.busy": "2024-11-04T15:47:53.946278Z",
     "iopub.status.idle": "2024-11-04T15:47:53.968143Z",
     "shell.execute_reply": "2024-11-04T15:47:53.966166Z"
    },
    "papermill": {
     "duration": 0.052841,
     "end_time": "2024-11-04T15:47:53.971461",
     "exception": false,
     "start_time": "2024-11-04T15:47:53.918620",
     "status": "completed"
    },
    "tags": []
   },
   "outputs": [
    {
     "data": {
      "text/html": [
       "<div>\n",
       "<style scoped>\n",
       "    .dataframe tbody tr th:only-of-type {\n",
       "        vertical-align: middle;\n",
       "    }\n",
       "\n",
       "    .dataframe tbody tr th {\n",
       "        vertical-align: top;\n",
       "    }\n",
       "\n",
       "    .dataframe thead th {\n",
       "        text-align: right;\n",
       "    }\n",
       "</style>\n",
       "<table border=\"1\" class=\"dataframe\">\n",
       "  <thead>\n",
       "    <tr style=\"text-align: right;\">\n",
       "      <th></th>\n",
       "      <th>MonthlyCharges</th>\n",
       "      <th>ChurnCounts</th>\n",
       "      <th>ChurnRate</th>\n",
       "    </tr>\n",
       "  </thead>\n",
       "  <tbody>\n",
       "    <tr>\n",
       "      <th>0</th>\n",
       "      <td>76+</td>\n",
       "      <td>1136</td>\n",
       "      <td>60.781166</td>\n",
       "    </tr>\n",
       "    <tr>\n",
       "      <th>1</th>\n",
       "      <td>51 - 75</td>\n",
       "      <td>393</td>\n",
       "      <td>21.027287</td>\n",
       "    </tr>\n",
       "    <tr>\n",
       "      <th>2</th>\n",
       "      <td>26 - 50</td>\n",
       "      <td>213</td>\n",
       "      <td>11.396469</td>\n",
       "    </tr>\n",
       "    <tr>\n",
       "      <th>3</th>\n",
       "      <td>0 - 25</td>\n",
       "      <td>127</td>\n",
       "      <td>6.795078</td>\n",
       "    </tr>\n",
       "  </tbody>\n",
       "</table>\n",
       "</div>"
      ],
      "text/plain": [
       "  MonthlyCharges  ChurnCounts  ChurnRate\n",
       "0            76+         1136  60.781166\n",
       "1        51 - 75          393  21.027287\n",
       "2        26 - 50          213  11.396469\n",
       "3         0 - 25          127   6.795078"
      ]
     },
     "execution_count": 30,
     "metadata": {},
     "output_type": "execute_result"
    }
   ],
   "source": [
    "# 28. Churn Rate by Monthly Charges\n",
    "monthly_charges_churn_rate_query = \"\"\"\n",
    "WITH Churned AS (\n",
    "    SELECT \n",
    "        CASE\n",
    "            WHEN MonthlyCharge BETWEEN 0 AND 25 THEN '0 - 25'\n",
    "            WHEN MonthlyCharge BETWEEN 26 AND 50 THEN '26 - 50'\n",
    "            WHEN MonthlyCharge BETWEEN 51 AND 75 THEN '51 - 75'\n",
    "            ELSE '76+'\n",
    "        END AS MonthlyCharges, COUNT(*) AS ChurnCounts\n",
    "    FROM TelcoCustomerChurn\n",
    "    WHERE CustomerStatus = 'Churned'\n",
    "    GROUP BY \n",
    "        CASE\n",
    "            WHEN MonthlyCharge BETWEEN 0 AND 25 THEN '0 - 25'\n",
    "            WHEN MonthlyCharge BETWEEN 26 AND 50 THEN '26 - 50'\n",
    "            WHEN MonthlyCharge BETWEEN 51 AND 75 THEN '51 - 75'\n",
    "            ELSE '76+'\n",
    "        END\n",
    ")\n",
    "SELECT MonthlyCharges, ChurnCounts, \n",
    "       (ChurnCounts * 1.0 / SUM(ChurnCounts) OVER ()) * 100 AS ChurnRate  \n",
    "FROM Churned\n",
    "ORDER BY ChurnRate DESC\n",
    "\"\"\"\n",
    "monthly_charges_churn_rate_result = pd.read_sql_query(monthly_charges_churn_rate_query, conn)\n",
    "monthly_charges_churn_rate_result"
   ]
  },
  {
   "cell_type": "markdown",
   "id": "5655e1c3",
   "metadata": {
    "papermill": {
     "duration": 0.027063,
     "end_time": "2024-11-04T15:47:54.025512",
     "exception": false,
     "start_time": "2024-11-04T15:47:53.998449",
     "status": "completed"
    },
    "tags": []
   },
   "source": [
    "# Calculate churn rate by total revenue\n",
    "\n",
    "This query segments customers by total revenue generated and calculates the corresponding churn rate for each segment, providing insights into revenue impact on customer retention."
   ]
  },
  {
   "cell_type": "code",
   "execution_count": 31,
   "id": "7538d0a4",
   "metadata": {
    "execution": {
     "iopub.execute_input": "2024-11-04T15:47:54.087295Z",
     "iopub.status.busy": "2024-11-04T15:47:54.086729Z",
     "iopub.status.idle": "2024-11-04T15:47:54.112075Z",
     "shell.execute_reply": "2024-11-04T15:47:54.110066Z"
    },
    "papermill": {
     "duration": 0.059805,
     "end_time": "2024-11-04T15:47:54.115727",
     "exception": false,
     "start_time": "2024-11-04T15:47:54.055922",
     "status": "completed"
    },
    "tags": []
   },
   "outputs": [
    {
     "data": {
      "text/html": [
       "<div>\n",
       "<style scoped>\n",
       "    .dataframe tbody tr th:only-of-type {\n",
       "        vertical-align: middle;\n",
       "    }\n",
       "\n",
       "    .dataframe tbody tr th {\n",
       "        vertical-align: top;\n",
       "    }\n",
       "\n",
       "    .dataframe thead th {\n",
       "        text-align: right;\n",
       "    }\n",
       "</style>\n",
       "<table border=\"1\" class=\"dataframe\">\n",
       "  <thead>\n",
       "    <tr style=\"text-align: right;\">\n",
       "      <th></th>\n",
       "      <th>TotalRevenue</th>\n",
       "      <th>ChurnCounts</th>\n",
       "      <th>ChurnRate</th>\n",
       "    </tr>\n",
       "  </thead>\n",
       "  <tbody>\n",
       "    <tr>\n",
       "      <th>0</th>\n",
       "      <td>0 - 1000</td>\n",
       "      <td>978</td>\n",
       "      <td>52.327448</td>\n",
       "    </tr>\n",
       "    <tr>\n",
       "      <th>1</th>\n",
       "      <td>1001 - 3000</td>\n",
       "      <td>432</td>\n",
       "      <td>23.113965</td>\n",
       "    </tr>\n",
       "    <tr>\n",
       "      <th>2</th>\n",
       "      <td>5000+</td>\n",
       "      <td>247</td>\n",
       "      <td>13.215623</td>\n",
       "    </tr>\n",
       "    <tr>\n",
       "      <th>3</th>\n",
       "      <td>3001 - 5000</td>\n",
       "      <td>212</td>\n",
       "      <td>11.342964</td>\n",
       "    </tr>\n",
       "  </tbody>\n",
       "</table>\n",
       "</div>"
      ],
      "text/plain": [
       "  TotalRevenue  ChurnCounts  ChurnRate\n",
       "0     0 - 1000          978  52.327448\n",
       "1  1001 - 3000          432  23.113965\n",
       "2        5000+          247  13.215623\n",
       "3  3001 - 5000          212  11.342964"
      ]
     },
     "execution_count": 31,
     "metadata": {},
     "output_type": "execute_result"
    }
   ],
   "source": [
    "# 29. Churn Rate by Total Revenue\n",
    "total_revenue_churn_rate_query = \"\"\"\n",
    "WITH Churned AS (\n",
    "    SELECT \n",
    "        CASE\n",
    "            WHEN TotalRevenue BETWEEN 0 AND 1000 THEN '0 - 1000'\n",
    "            WHEN TotalRevenue BETWEEN 1001 AND 3000 THEN '1001 - 3000'\n",
    "            WHEN TotalRevenue BETWEEN 3001 AND 5000 THEN '3001 - 5000'\n",
    "            ELSE '5000+'\n",
    "        END AS TotalRevenue, COUNT(*) AS ChurnCounts\n",
    "    FROM TelcoCustomerChurn\n",
    "    WHERE CustomerStatus = 'Churned'\n",
    "    GROUP BY \n",
    "        CASE\n",
    "            WHEN TotalRevenue BETWEEN 0 AND 1000 THEN '0 - 1000'\n",
    "            WHEN TotalRevenue BETWEEN 1001 AND 3000 THEN '1001 - 3000'\n",
    "            WHEN TotalRevenue BETWEEN 3001 AND 5000 THEN '3001 - 5000'\n",
    "            ELSE '5000+'\n",
    "        END\n",
    ")\n",
    "SELECT TotalRevenue, ChurnCounts, \n",
    "       (ChurnCounts * 1.0 / SUM(ChurnCounts) OVER ()) * 100 AS ChurnRate  \n",
    "FROM Churned\n",
    "ORDER BY ChurnRate DESC\n",
    "\"\"\"\n",
    "total_revenue_churn_rate_result = pd.read_sql_query(total_revenue_churn_rate_query, conn)\n",
    "total_revenue_churn_rate_result"
   ]
  },
  {
   "cell_type": "markdown",
   "id": "c967dc8e",
   "metadata": {
    "papermill": {
     "duration": 0.031222,
     "end_time": "2024-11-04T15:47:54.174067",
     "exception": false,
     "start_time": "2024-11-04T15:47:54.142845",
     "status": "completed"
    },
    "tags": []
   },
   "source": [
    "# Calculate churn rate by satisfaction score for Q3\n",
    "\n",
    "This query retrieves the count of customers and their churn rates based on satisfaction scores, which can indicate the correlation between satisfaction and churn behavior."
   ]
  },
  {
   "cell_type": "code",
   "execution_count": 32,
   "id": "e1644c67",
   "metadata": {
    "execution": {
     "iopub.execute_input": "2024-11-04T15:47:54.242318Z",
     "iopub.status.busy": "2024-11-04T15:47:54.241085Z",
     "iopub.status.idle": "2024-11-04T15:47:54.267587Z",
     "shell.execute_reply": "2024-11-04T15:47:54.265945Z"
    },
    "papermill": {
     "duration": 0.069108,
     "end_time": "2024-11-04T15:47:54.272682",
     "exception": false,
     "start_time": "2024-11-04T15:47:54.203574",
     "status": "completed"
    },
    "tags": []
   },
   "outputs": [
    {
     "data": {
      "text/html": [
       "<div>\n",
       "<style scoped>\n",
       "    .dataframe tbody tr th:only-of-type {\n",
       "        vertical-align: middle;\n",
       "    }\n",
       "\n",
       "    .dataframe tbody tr th {\n",
       "        vertical-align: top;\n",
       "    }\n",
       "\n",
       "    .dataframe thead th {\n",
       "        text-align: right;\n",
       "    }\n",
       "</style>\n",
       "<table border=\"1\" class=\"dataframe\">\n",
       "  <thead>\n",
       "    <tr style=\"text-align: right;\">\n",
       "      <th></th>\n",
       "      <th>SatisfactionScore</th>\n",
       "      <th>CustomerCounts</th>\n",
       "      <th>Percentage</th>\n",
       "    </tr>\n",
       "  </thead>\n",
       "  <tbody>\n",
       "    <tr>\n",
       "      <th>0</th>\n",
       "      <td>3</td>\n",
       "      <td>2665</td>\n",
       "      <td>37.838989</td>\n",
       "    </tr>\n",
       "    <tr>\n",
       "      <th>1</th>\n",
       "      <td>4</td>\n",
       "      <td>1789</td>\n",
       "      <td>25.401107</td>\n",
       "    </tr>\n",
       "    <tr>\n",
       "      <th>2</th>\n",
       "      <td>5</td>\n",
       "      <td>1149</td>\n",
       "      <td>16.314071</td>\n",
       "    </tr>\n",
       "    <tr>\n",
       "      <th>3</th>\n",
       "      <td>1</td>\n",
       "      <td>922</td>\n",
       "      <td>13.091012</td>\n",
       "    </tr>\n",
       "    <tr>\n",
       "      <th>4</th>\n",
       "      <td>2</td>\n",
       "      <td>518</td>\n",
       "      <td>7.354820</td>\n",
       "    </tr>\n",
       "  </tbody>\n",
       "</table>\n",
       "</div>"
      ],
      "text/plain": [
       "   SatisfactionScore  CustomerCounts  Percentage\n",
       "0                  3            2665   37.838989\n",
       "1                  4            1789   25.401107\n",
       "2                  5            1149   16.314071\n",
       "3                  1             922   13.091012\n",
       "4                  2             518    7.354820"
      ]
     },
     "execution_count": 32,
     "metadata": {},
     "output_type": "execute_result"
    }
   ],
   "source": [
    "# 30. Churn Rate by Satisfaction Score for Q3\n",
    "satisfaction_score_churn_rate_query = \"\"\"\n",
    "SELECT SatisfactionScore, COUNT(*) AS CustomerCounts, \n",
    "       (COUNT(*) * 1.0 / SUM(COUNT(*)) OVER ()) * 100 AS Percentage\n",
    "FROM TelcoCustomerChurn\n",
    "GROUP BY SatisfactionScore\n",
    "ORDER BY Percentage DESC\n",
    "\"\"\"\n",
    "satisfaction_score_churn_rate_result = pd.read_sql_query(satisfaction_score_churn_rate_query, conn)\n",
    "satisfaction_score_churn_rate_result"
   ]
  },
  {
   "cell_type": "code",
   "execution_count": 33,
   "id": "7ca19b00",
   "metadata": {
    "execution": {
     "iopub.execute_input": "2024-11-04T15:47:54.336128Z",
     "iopub.status.busy": "2024-11-04T15:47:54.335082Z",
     "iopub.status.idle": "2024-11-04T15:47:54.355402Z",
     "shell.execute_reply": "2024-11-04T15:47:54.353549Z"
    },
    "papermill": {
     "duration": 0.055509,
     "end_time": "2024-11-04T15:47:54.359396",
     "exception": false,
     "start_time": "2024-11-04T15:47:54.303887",
     "status": "completed"
    },
    "tags": []
   },
   "outputs": [
    {
     "data": {
      "text/html": [
       "<div>\n",
       "<style scoped>\n",
       "    .dataframe tbody tr th:only-of-type {\n",
       "        vertical-align: middle;\n",
       "    }\n",
       "\n",
       "    .dataframe tbody tr th {\n",
       "        vertical-align: top;\n",
       "    }\n",
       "\n",
       "    .dataframe thead th {\n",
       "        text-align: right;\n",
       "    }\n",
       "</style>\n",
       "<table border=\"1\" class=\"dataframe\">\n",
       "  <thead>\n",
       "    <tr style=\"text-align: right;\">\n",
       "      <th></th>\n",
       "      <th>SatisfactionScore</th>\n",
       "      <th>ChurnCounts</th>\n",
       "      <th>ChurnRate</th>\n",
       "    </tr>\n",
       "  </thead>\n",
       "  <tbody>\n",
       "    <tr>\n",
       "      <th>0</th>\n",
       "      <td>1</td>\n",
       "      <td>922</td>\n",
       "      <td>49.331193</td>\n",
       "    </tr>\n",
       "    <tr>\n",
       "      <th>1</th>\n",
       "      <td>2</td>\n",
       "      <td>518</td>\n",
       "      <td>27.715356</td>\n",
       "    </tr>\n",
       "    <tr>\n",
       "      <th>2</th>\n",
       "      <td>3</td>\n",
       "      <td>429</td>\n",
       "      <td>22.953451</td>\n",
       "    </tr>\n",
       "  </tbody>\n",
       "</table>\n",
       "</div>"
      ],
      "text/plain": [
       "   SatisfactionScore  ChurnCounts  ChurnRate\n",
       "0                  1          922  49.331193\n",
       "1                  2          518  27.715356\n",
       "2                  3          429  22.953451"
      ]
     },
     "execution_count": 33,
     "metadata": {},
     "output_type": "execute_result"
    }
   ],
   "source": [
    "satisfaction_score_churn_rate_query = \"\"\"\n",
    "SELECT SatisfactionScore, COUNT(*) AS ChurnCounts, \n",
    "       (COUNT(*) * 1.0 / SUM(COUNT(*)) OVER ()) * 100 AS ChurnRate\n",
    "FROM TelcoCustomerChurn\n",
    "WHERE CustomerStatus = 'Churned'\n",
    "GROUP BY SatisfactionScore\n",
    "ORDER BY ChurnRate DESC\n",
    "\"\"\"\n",
    "satisfaction_score_churn_rate_result = pd.read_sql_query(satisfaction_score_churn_rate_query, conn)\n",
    "satisfaction_score_churn_rate_result"
   ]
  },
  {
   "cell_type": "markdown",
   "id": "72827902",
   "metadata": {
    "papermill": {
     "duration": 0.025667,
     "end_time": "2024-11-04T15:47:54.412318",
     "exception": false,
     "start_time": "2024-11-04T15:47:54.386651",
     "status": "completed"
    },
    "tags": []
   },
   "source": [
    "# Calculate churn rate by customer status\n",
    "\n",
    "This query calculates the distribution of customers by their status (Churned vs. Not Churned) and computes the churn rate, allowing for assessment of overall customer health."
   ]
  },
  {
   "cell_type": "code",
   "execution_count": 34,
   "id": "1529ae34",
   "metadata": {
    "execution": {
     "iopub.execute_input": "2024-11-04T15:47:54.471753Z",
     "iopub.status.busy": "2024-11-04T15:47:54.471038Z",
     "iopub.status.idle": "2024-11-04T15:47:54.496302Z",
     "shell.execute_reply": "2024-11-04T15:47:54.494248Z"
    },
    "papermill": {
     "duration": 0.060891,
     "end_time": "2024-11-04T15:47:54.499733",
     "exception": false,
     "start_time": "2024-11-04T15:47:54.438842",
     "status": "completed"
    },
    "tags": []
   },
   "outputs": [
    {
     "data": {
      "text/html": [
       "<div>\n",
       "<style scoped>\n",
       "    .dataframe tbody tr th:only-of-type {\n",
       "        vertical-align: middle;\n",
       "    }\n",
       "\n",
       "    .dataframe tbody tr th {\n",
       "        vertical-align: top;\n",
       "    }\n",
       "\n",
       "    .dataframe thead th {\n",
       "        text-align: right;\n",
       "    }\n",
       "</style>\n",
       "<table border=\"1\" class=\"dataframe\">\n",
       "  <thead>\n",
       "    <tr style=\"text-align: right;\">\n",
       "      <th></th>\n",
       "      <th>CustomerStatus</th>\n",
       "      <th>CustomerCounts</th>\n",
       "      <th>Rate</th>\n",
       "    </tr>\n",
       "  </thead>\n",
       "  <tbody>\n",
       "    <tr>\n",
       "      <th>0</th>\n",
       "      <td>Stayed</td>\n",
       "      <td>4720</td>\n",
       "      <td>67.016896</td>\n",
       "    </tr>\n",
       "    <tr>\n",
       "      <th>1</th>\n",
       "      <td>Churned</td>\n",
       "      <td>1869</td>\n",
       "      <td>26.536987</td>\n",
       "    </tr>\n",
       "    <tr>\n",
       "      <th>2</th>\n",
       "      <td>Joined</td>\n",
       "      <td>454</td>\n",
       "      <td>6.446117</td>\n",
       "    </tr>\n",
       "  </tbody>\n",
       "</table>\n",
       "</div>"
      ],
      "text/plain": [
       "  CustomerStatus  CustomerCounts       Rate\n",
       "0         Stayed            4720  67.016896\n",
       "1        Churned            1869  26.536987\n",
       "2         Joined             454   6.446117"
      ]
     },
     "execution_count": 34,
     "metadata": {},
     "output_type": "execute_result"
    }
   ],
   "source": [
    "# 31. Churn Rate by Customer Status\n",
    "customer_status_rate_query = \"\"\"\n",
    "SELECT CustomerStatus, COUNT(*) AS CustomerCounts, \n",
    "       (COUNT(*) * 1.0 / (SELECT COUNT(*) FROM TelcoCustomerChurn)) * 100 AS Rate\n",
    "FROM TelcoCustomerChurn\n",
    "GROUP BY CustomerStatus\n",
    "ORDER BY CustomerCounts DESC\n",
    "\"\"\"\n",
    "customer_status_rate_result = pd.read_sql_query(customer_status_rate_query, conn)\n",
    "customer_status_rate_result"
   ]
  },
  {
   "cell_type": "markdown",
   "id": "1f0770cc",
   "metadata": {
    "papermill": {
     "duration": 0.028805,
     "end_time": "2024-11-04T15:47:54.569328",
     "exception": false,
     "start_time": "2024-11-04T15:47:54.540523",
     "status": "completed"
    },
    "tags": []
   },
   "source": [
    "# Calculate average monthly charge by customer status\n",
    "\n",
    "This query computes the average monthly charge incurred by customers, grouped by their status, which may inform strategies to reduce churn through pricing adjustments."
   ]
  },
  {
   "cell_type": "code",
   "execution_count": 35,
   "id": "87fea752",
   "metadata": {
    "execution": {
     "iopub.execute_input": "2024-11-04T15:47:54.634867Z",
     "iopub.status.busy": "2024-11-04T15:47:54.634229Z",
     "iopub.status.idle": "2024-11-04T15:47:54.658086Z",
     "shell.execute_reply": "2024-11-04T15:47:54.656538Z"
    },
    "papermill": {
     "duration": 0.060414,
     "end_time": "2024-11-04T15:47:54.662355",
     "exception": false,
     "start_time": "2024-11-04T15:47:54.601941",
     "status": "completed"
    },
    "tags": []
   },
   "outputs": [
    {
     "data": {
      "text/html": [
       "<div>\n",
       "<style scoped>\n",
       "    .dataframe tbody tr th:only-of-type {\n",
       "        vertical-align: middle;\n",
       "    }\n",
       "\n",
       "    .dataframe tbody tr th {\n",
       "        vertical-align: top;\n",
       "    }\n",
       "\n",
       "    .dataframe thead th {\n",
       "        text-align: right;\n",
       "    }\n",
       "</style>\n",
       "<table border=\"1\" class=\"dataframe\">\n",
       "  <thead>\n",
       "    <tr style=\"text-align: right;\">\n",
       "      <th></th>\n",
       "      <th>CustomerStatus</th>\n",
       "      <th>AvgMonthlyCharge</th>\n",
       "    </tr>\n",
       "  </thead>\n",
       "  <tbody>\n",
       "    <tr>\n",
       "      <th>0</th>\n",
       "      <td>Churned</td>\n",
       "      <td>74.441332</td>\n",
       "    </tr>\n",
       "    <tr>\n",
       "      <th>1</th>\n",
       "      <td>Joined</td>\n",
       "      <td>43.474009</td>\n",
       "    </tr>\n",
       "    <tr>\n",
       "      <th>2</th>\n",
       "      <td>Stayed</td>\n",
       "      <td>62.976388</td>\n",
       "    </tr>\n",
       "  </tbody>\n",
       "</table>\n",
       "</div>"
      ],
      "text/plain": [
       "  CustomerStatus  AvgMonthlyCharge\n",
       "0        Churned         74.441332\n",
       "1         Joined         43.474009\n",
       "2         Stayed         62.976388"
      ]
     },
     "execution_count": 35,
     "metadata": {},
     "output_type": "execute_result"
    }
   ],
   "source": [
    "# 32. Average Monthly Charge by Customer Status\n",
    "average_monthly_charge_status_query = \"\"\"\n",
    "SELECT CustomerStatus, AVG(MonthlyCharge) AS AvgMonthlyCharge\n",
    "FROM TelcoCustomerChurn\n",
    "GROUP BY CustomerStatus\n",
    "\"\"\"\n",
    "average_monthly_charge_status_result = pd.read_sql_query(average_monthly_charge_status_query, conn)\n",
    "average_monthly_charge_status_result"
   ]
  },
  {
   "cell_type": "markdown",
   "id": "ef771383",
   "metadata": {
    "papermill": {
     "duration": 0.029028,
     "end_time": "2024-11-04T15:47:54.720989",
     "exception": false,
     "start_time": "2024-11-04T15:47:54.691961",
     "status": "completed"
    },
    "tags": []
   },
   "source": [
    "# Calculate churn rate by churn category\n",
    "\n",
    "This query analyzes the churn rate based on predefined churn categories, showing how many customers fall into each category and what might be causing them to leave."
   ]
  },
  {
   "cell_type": "code",
   "execution_count": 36,
   "id": "24fbcc2a",
   "metadata": {
    "execution": {
     "iopub.execute_input": "2024-11-04T15:47:54.782870Z",
     "iopub.status.busy": "2024-11-04T15:47:54.782196Z",
     "iopub.status.idle": "2024-11-04T15:47:54.806977Z",
     "shell.execute_reply": "2024-11-04T15:47:54.805510Z"
    },
    "papermill": {
     "duration": 0.059436,
     "end_time": "2024-11-04T15:47:54.811176",
     "exception": false,
     "start_time": "2024-11-04T15:47:54.751740",
     "status": "completed"
    },
    "tags": []
   },
   "outputs": [
    {
     "data": {
      "text/html": [
       "<div>\n",
       "<style scoped>\n",
       "    .dataframe tbody tr th:only-of-type {\n",
       "        vertical-align: middle;\n",
       "    }\n",
       "\n",
       "    .dataframe tbody tr th {\n",
       "        vertical-align: top;\n",
       "    }\n",
       "\n",
       "    .dataframe thead th {\n",
       "        text-align: right;\n",
       "    }\n",
       "</style>\n",
       "<table border=\"1\" class=\"dataframe\">\n",
       "  <thead>\n",
       "    <tr style=\"text-align: right;\">\n",
       "      <th></th>\n",
       "      <th>ChurnCategory</th>\n",
       "      <th>Count</th>\n",
       "      <th>ChurnRate</th>\n",
       "    </tr>\n",
       "  </thead>\n",
       "  <tbody>\n",
       "    <tr>\n",
       "      <th>0</th>\n",
       "      <td>Competitor</td>\n",
       "      <td>841</td>\n",
       "      <td>44.997325</td>\n",
       "    </tr>\n",
       "    <tr>\n",
       "      <th>1</th>\n",
       "      <td>Attitude</td>\n",
       "      <td>314</td>\n",
       "      <td>16.800428</td>\n",
       "    </tr>\n",
       "    <tr>\n",
       "      <th>2</th>\n",
       "      <td>Dissatisfaction</td>\n",
       "      <td>303</td>\n",
       "      <td>16.211878</td>\n",
       "    </tr>\n",
       "    <tr>\n",
       "      <th>3</th>\n",
       "      <td>Price</td>\n",
       "      <td>211</td>\n",
       "      <td>11.289460</td>\n",
       "    </tr>\n",
       "    <tr>\n",
       "      <th>4</th>\n",
       "      <td>Other</td>\n",
       "      <td>200</td>\n",
       "      <td>10.700910</td>\n",
       "    </tr>\n",
       "  </tbody>\n",
       "</table>\n",
       "</div>"
      ],
      "text/plain": [
       "     ChurnCategory  Count  ChurnRate\n",
       "0       Competitor    841  44.997325\n",
       "1         Attitude    314  16.800428\n",
       "2  Dissatisfaction    303  16.211878\n",
       "3            Price    211  11.289460\n",
       "4            Other    200  10.700910"
      ]
     },
     "execution_count": 36,
     "metadata": {},
     "output_type": "execute_result"
    }
   ],
   "source": [
    "# 33. Churn Rate by Churn Category\n",
    "churn_category_rate_query = \"\"\"\n",
    "SELECT ChurnCategory, COUNT(*) AS Count, \n",
    "       (COUNT(*) * 1.0 / SUM(COUNT(*)) OVER ()) * 100 AS ChurnRate\n",
    "FROM TelcoCustomerChurn\n",
    "WHERE ChurnCategory IS NOT NULL\n",
    "GROUP BY ChurnCategory\n",
    "ORDER BY Count DESC\n",
    "\"\"\"\n",
    "churn_category_rate_result = pd.read_sql_query(churn_category_rate_query, conn)\n",
    "churn_category_rate_result"
   ]
  },
  {
   "cell_type": "markdown",
   "id": "d93c7eb6",
   "metadata": {
    "papermill": {
     "duration": 0.026493,
     "end_time": "2024-11-04T15:47:54.871169",
     "exception": false,
     "start_time": "2024-11-04T15:47:54.844676",
     "status": "completed"
    },
    "tags": []
   },
   "source": [
    "# Calculate churn rate by churn reason\n",
    "\n",
    "This query assesses the churn rate according to the reasons provided by customers for leaving, which can guide improvement efforts in service offerings."
   ]
  },
  {
   "cell_type": "code",
   "execution_count": 37,
   "id": "c2946f46",
   "metadata": {
    "execution": {
     "iopub.execute_input": "2024-11-04T15:47:54.941753Z",
     "iopub.status.busy": "2024-11-04T15:47:54.939896Z",
     "iopub.status.idle": "2024-11-04T15:47:54.968440Z",
     "shell.execute_reply": "2024-11-04T15:47:54.966276Z"
    },
    "papermill": {
     "duration": 0.069599,
     "end_time": "2024-11-04T15:47:54.971980",
     "exception": false,
     "start_time": "2024-11-04T15:47:54.902381",
     "status": "completed"
    },
    "tags": []
   },
   "outputs": [
    {
     "data": {
      "text/html": [
       "<div>\n",
       "<style scoped>\n",
       "    .dataframe tbody tr th:only-of-type {\n",
       "        vertical-align: middle;\n",
       "    }\n",
       "\n",
       "    .dataframe tbody tr th {\n",
       "        vertical-align: top;\n",
       "    }\n",
       "\n",
       "    .dataframe thead th {\n",
       "        text-align: right;\n",
       "    }\n",
       "</style>\n",
       "<table border=\"1\" class=\"dataframe\">\n",
       "  <thead>\n",
       "    <tr style=\"text-align: right;\">\n",
       "      <th></th>\n",
       "      <th>ChurnReason</th>\n",
       "      <th>Count</th>\n",
       "      <th>ChurnRate</th>\n",
       "    </tr>\n",
       "  </thead>\n",
       "  <tbody>\n",
       "    <tr>\n",
       "      <th>0</th>\n",
       "      <td>Competitor had better devices</td>\n",
       "      <td>313</td>\n",
       "      <td>16.746923</td>\n",
       "    </tr>\n",
       "    <tr>\n",
       "      <th>1</th>\n",
       "      <td>Competitor made better offer</td>\n",
       "      <td>311</td>\n",
       "      <td>16.639914</td>\n",
       "    </tr>\n",
       "    <tr>\n",
       "      <th>2</th>\n",
       "      <td>Attitude of support person</td>\n",
       "      <td>220</td>\n",
       "      <td>11.771001</td>\n",
       "    </tr>\n",
       "    <tr>\n",
       "      <th>3</th>\n",
       "      <td>Don't know</td>\n",
       "      <td>130</td>\n",
       "      <td>6.955591</td>\n",
       "    </tr>\n",
       "    <tr>\n",
       "      <th>4</th>\n",
       "      <td>Competitor offered more data</td>\n",
       "      <td>117</td>\n",
       "      <td>6.260032</td>\n",
       "    </tr>\n",
       "    <tr>\n",
       "      <th>5</th>\n",
       "      <td>Competitor offered higher download speeds</td>\n",
       "      <td>100</td>\n",
       "      <td>5.350455</td>\n",
       "    </tr>\n",
       "    <tr>\n",
       "      <th>6</th>\n",
       "      <td>Attitude of service provider</td>\n",
       "      <td>94</td>\n",
       "      <td>5.029428</td>\n",
       "    </tr>\n",
       "    <tr>\n",
       "      <th>7</th>\n",
       "      <td>Price too high</td>\n",
       "      <td>78</td>\n",
       "      <td>4.173355</td>\n",
       "    </tr>\n",
       "    <tr>\n",
       "      <th>8</th>\n",
       "      <td>Product dissatisfaction</td>\n",
       "      <td>77</td>\n",
       "      <td>4.119850</td>\n",
       "    </tr>\n",
       "    <tr>\n",
       "      <th>9</th>\n",
       "      <td>Network reliability</td>\n",
       "      <td>72</td>\n",
       "      <td>3.852327</td>\n",
       "    </tr>\n",
       "    <tr>\n",
       "      <th>10</th>\n",
       "      <td>Long distance charges</td>\n",
       "      <td>64</td>\n",
       "      <td>3.424291</td>\n",
       "    </tr>\n",
       "    <tr>\n",
       "      <th>11</th>\n",
       "      <td>Service dissatisfaction</td>\n",
       "      <td>63</td>\n",
       "      <td>3.370787</td>\n",
       "    </tr>\n",
       "    <tr>\n",
       "      <th>12</th>\n",
       "      <td>Moved</td>\n",
       "      <td>46</td>\n",
       "      <td>2.461209</td>\n",
       "    </tr>\n",
       "    <tr>\n",
       "      <th>13</th>\n",
       "      <td>Extra data charges</td>\n",
       "      <td>39</td>\n",
       "      <td>2.086677</td>\n",
       "    </tr>\n",
       "    <tr>\n",
       "      <th>14</th>\n",
       "      <td>Limited range of services</td>\n",
       "      <td>37</td>\n",
       "      <td>1.979668</td>\n",
       "    </tr>\n",
       "    <tr>\n",
       "      <th>15</th>\n",
       "      <td>Poor expertise of online support</td>\n",
       "      <td>31</td>\n",
       "      <td>1.658641</td>\n",
       "    </tr>\n",
       "    <tr>\n",
       "      <th>16</th>\n",
       "      <td>Lack of affordable download/upload speed</td>\n",
       "      <td>30</td>\n",
       "      <td>1.605136</td>\n",
       "    </tr>\n",
       "    <tr>\n",
       "      <th>17</th>\n",
       "      <td>Lack of self-service on Website</td>\n",
       "      <td>29</td>\n",
       "      <td>1.551632</td>\n",
       "    </tr>\n",
       "    <tr>\n",
       "      <th>18</th>\n",
       "      <td>Poor expertise of phone support</td>\n",
       "      <td>12</td>\n",
       "      <td>0.642055</td>\n",
       "    </tr>\n",
       "    <tr>\n",
       "      <th>19</th>\n",
       "      <td>Deceased</td>\n",
       "      <td>6</td>\n",
       "      <td>0.321027</td>\n",
       "    </tr>\n",
       "  </tbody>\n",
       "</table>\n",
       "</div>"
      ],
      "text/plain": [
       "                                  ChurnReason  Count  ChurnRate\n",
       "0               Competitor had better devices    313  16.746923\n",
       "1                Competitor made better offer    311  16.639914\n",
       "2                  Attitude of support person    220  11.771001\n",
       "3                                  Don't know    130   6.955591\n",
       "4                Competitor offered more data    117   6.260032\n",
       "5   Competitor offered higher download speeds    100   5.350455\n",
       "6                Attitude of service provider     94   5.029428\n",
       "7                              Price too high     78   4.173355\n",
       "8                     Product dissatisfaction     77   4.119850\n",
       "9                         Network reliability     72   3.852327\n",
       "10                      Long distance charges     64   3.424291\n",
       "11                    Service dissatisfaction     63   3.370787\n",
       "12                                      Moved     46   2.461209\n",
       "13                         Extra data charges     39   2.086677\n",
       "14                  Limited range of services     37   1.979668\n",
       "15           Poor expertise of online support     31   1.658641\n",
       "16   Lack of affordable download/upload speed     30   1.605136\n",
       "17            Lack of self-service on Website     29   1.551632\n",
       "18            Poor expertise of phone support     12   0.642055\n",
       "19                                   Deceased      6   0.321027"
      ]
     },
     "execution_count": 37,
     "metadata": {},
     "output_type": "execute_result"
    }
   ],
   "source": [
    "# 34. Churn Rate by Churn Reason\n",
    "churn_reason_rate_query = \"\"\"\n",
    "SELECT ChurnReason, COUNT(*) AS Count, \n",
    "       (COUNT(*) * 1.0 / SUM(COUNT(*)) OVER ()) * 100 AS ChurnRate\n",
    "FROM TelcoCustomerChurn\n",
    "WHERE ChurnReason IS NOT NULL\n",
    "GROUP BY ChurnReason\n",
    "ORDER BY Count DESC\n",
    "\"\"\"\n",
    "churn_reason_rate_result = pd.read_sql_query(churn_reason_rate_query, conn)\n",
    "churn_reason_rate_result"
   ]
  },
  {
   "cell_type": "markdown",
   "id": "d33595e2",
   "metadata": {
    "papermill": {
     "duration": 0.0312,
     "end_time": "2024-11-04T15:47:55.033565",
     "exception": false,
     "start_time": "2024-11-04T15:47:55.002365",
     "status": "completed"
    },
    "tags": []
   },
   "source": [
    "# Churn rate by CLTV segment for Q3\n",
    "\n",
    "This query segments customers based on their Customer Lifetime Value (CLTV) and calculates churn rates within these segments, indicating which segments are more at risk."
   ]
  },
  {
   "cell_type": "code",
   "execution_count": 38,
   "id": "c47ba11c",
   "metadata": {
    "execution": {
     "iopub.execute_input": "2024-11-04T15:47:55.165903Z",
     "iopub.status.busy": "2024-11-04T15:47:55.165351Z",
     "iopub.status.idle": "2024-11-04T15:47:55.192441Z",
     "shell.execute_reply": "2024-11-04T15:47:55.190788Z"
    },
    "papermill": {
     "duration": 0.13414,
     "end_time": "2024-11-04T15:47:55.195774",
     "exception": false,
     "start_time": "2024-11-04T15:47:55.061634",
     "status": "completed"
    },
    "tags": []
   },
   "outputs": [
    {
     "data": {
      "text/html": [
       "<div>\n",
       "<style scoped>\n",
       "    .dataframe tbody tr th:only-of-type {\n",
       "        vertical-align: middle;\n",
       "    }\n",
       "\n",
       "    .dataframe tbody tr th {\n",
       "        vertical-align: top;\n",
       "    }\n",
       "\n",
       "    .dataframe thead th {\n",
       "        text-align: right;\n",
       "    }\n",
       "</style>\n",
       "<table border=\"1\" class=\"dataframe\">\n",
       "  <thead>\n",
       "    <tr style=\"text-align: right;\">\n",
       "      <th></th>\n",
       "      <th>CLTVSegment</th>\n",
       "      <th>ChurnCounts</th>\n",
       "      <th>TotalCustomers</th>\n",
       "      <th>ChurnRate</th>\n",
       "      <th>AvgCLTV</th>\n",
       "    </tr>\n",
       "  </thead>\n",
       "  <tbody>\n",
       "    <tr>\n",
       "      <th>0</th>\n",
       "      <td>High Value</td>\n",
       "      <td>553</td>\n",
       "      <td>2572</td>\n",
       "      <td>21.500778</td>\n",
       "      <td>5620.531882</td>\n",
       "    </tr>\n",
       "    <tr>\n",
       "      <th>1</th>\n",
       "      <td>Mid Value</td>\n",
       "      <td>1316</td>\n",
       "      <td>4471</td>\n",
       "      <td>29.434131</td>\n",
       "      <td>3698.339298</td>\n",
       "    </tr>\n",
       "  </tbody>\n",
       "</table>\n",
       "</div>"
      ],
      "text/plain": [
       "  CLTVSegment  ChurnCounts  TotalCustomers  ChurnRate      AvgCLTV\n",
       "0  High Value          553            2572  21.500778  5620.531882\n",
       "1   Mid Value         1316            4471  29.434131  3698.339298"
      ]
     },
     "execution_count": 38,
     "metadata": {},
     "output_type": "execute_result"
    }
   ],
   "source": [
    "# 35. Churn Rate by CLTV Segment for Q3\n",
    "cltv_segment_query = \"\"\"\n",
    "WITH CLTVSegments AS (\n",
    "    SELECT \n",
    "        CASE \n",
    "            WHEN CLTV < 1000 THEN 'Low Value'\n",
    "            WHEN CLTV BETWEEN 1000 AND 5000 THEN 'Mid Value'\n",
    "            ELSE 'High Value'\n",
    "        END AS CLTVSegment,\n",
    "        COUNT(*) AS TotalCustomers,\n",
    "        SUM(CASE WHEN CustomerStatus = 'Churned' THEN 1 ELSE 0 END) AS ChurnCounts,\n",
    "        AVG(CLTV) AS AvgCLTV\n",
    "    FROM TelcoCustomerChurn\n",
    "    GROUP BY \n",
    "        CASE \n",
    "            WHEN CLTV < 1000 THEN 'Low Value'\n",
    "            WHEN CLTV BETWEEN 1000 AND 5000 THEN 'Mid Value'\n",
    "            ELSE 'High Value'\n",
    "        END\n",
    ")\n",
    "SELECT \n",
    "    CLTVSegment, \n",
    "    ChurnCounts, \n",
    "    TotalCustomers,\n",
    "    (ChurnCounts * 1.0 / TotalCustomers) * 100 AS ChurnRate, \n",
    "    AvgCLTV \n",
    "FROM CLTVSegments\n",
    "\"\"\"\n",
    "cltv_segment_result = pd.read_sql_query(cltv_segment_query, conn)\n",
    "cltv_segment_result"
   ]
  },
  {
   "cell_type": "markdown",
   "id": "52359b4b",
   "metadata": {
    "papermill": {
     "duration": 0.029462,
     "end_time": "2024-11-04T15:47:55.252425",
     "exception": false,
     "start_time": "2024-11-04T15:47:55.222963",
     "status": "completed"
    },
    "tags": []
   },
   "source": [
    "# Calculate overall retention rate\n",
    "\n",
    "This query computes the overall retention rate of customers, showing the percentage that have not churned, which is crucial for assessing business health."
   ]
  },
  {
   "cell_type": "code",
   "execution_count": 39,
   "id": "c84ed00e",
   "metadata": {
    "execution": {
     "iopub.execute_input": "2024-11-04T15:47:55.311251Z",
     "iopub.status.busy": "2024-11-04T15:47:55.310684Z",
     "iopub.status.idle": "2024-11-04T15:47:55.328876Z",
     "shell.execute_reply": "2024-11-04T15:47:55.327268Z"
    },
    "papermill": {
     "duration": 0.051135,
     "end_time": "2024-11-04T15:47:55.332395",
     "exception": false,
     "start_time": "2024-11-04T15:47:55.281260",
     "status": "completed"
    },
    "tags": []
   },
   "outputs": [
    {
     "data": {
      "text/html": [
       "<div>\n",
       "<style scoped>\n",
       "    .dataframe tbody tr th:only-of-type {\n",
       "        vertical-align: middle;\n",
       "    }\n",
       "\n",
       "    .dataframe tbody tr th {\n",
       "        vertical-align: top;\n",
       "    }\n",
       "\n",
       "    .dataframe thead th {\n",
       "        text-align: right;\n",
       "    }\n",
       "</style>\n",
       "<table border=\"1\" class=\"dataframe\">\n",
       "  <thead>\n",
       "    <tr style=\"text-align: right;\">\n",
       "      <th></th>\n",
       "      <th>RetentionRate</th>\n",
       "    </tr>\n",
       "  </thead>\n",
       "  <tbody>\n",
       "    <tr>\n",
       "      <th>0</th>\n",
       "      <td>73.463013</td>\n",
       "    </tr>\n",
       "  </tbody>\n",
       "</table>\n",
       "</div>"
      ],
      "text/plain": [
       "   RetentionRate\n",
       "0      73.463013"
      ]
     },
     "execution_count": 39,
     "metadata": {},
     "output_type": "execute_result"
    }
   ],
   "source": [
    "# 36. Overall Retention Rate\n",
    "overall_retention_rate_query = \"\"\"\n",
    "SELECT (COUNT(CASE WHEN CustomerStatus <> 'Churned' THEN 1 END) * 1.0 / COUNT(*)) * 100 AS RetentionRate\n",
    "FROM TelcoCustomerChurn\n",
    "\"\"\"\n",
    "overall_retention_rate_result = pd.read_sql_query(overall_retention_rate_query, conn)\n",
    "overall_retention_rate_result"
   ]
  },
  {
   "cell_type": "markdown",
   "id": "bedcf490",
   "metadata": {
    "papermill": {
     "duration": 0.027311,
     "end_time": "2024-11-04T15:47:55.387600",
     "exception": false,
     "start_time": "2024-11-04T15:47:55.360289",
     "status": "completed"
    },
    "tags": []
   },
   "source": [
    "# Calculate total revenue lost due to churned customers\n",
    "\n",
    "This query calculates the total revenue lost from customers who have churned, providing insight into the financial impact of churn and guiding strategic decisions."
   ]
  },
  {
   "cell_type": "code",
   "execution_count": 40,
   "id": "4f1616d6",
   "metadata": {
    "execution": {
     "iopub.execute_input": "2024-11-04T15:47:55.451342Z",
     "iopub.status.busy": "2024-11-04T15:47:55.449983Z",
     "iopub.status.idle": "2024-11-04T15:47:55.470381Z",
     "shell.execute_reply": "2024-11-04T15:47:55.468502Z"
    },
    "papermill": {
     "duration": 0.057982,
     "end_time": "2024-11-04T15:47:55.474127",
     "exception": false,
     "start_time": "2024-11-04T15:47:55.416145",
     "status": "completed"
    },
    "tags": []
   },
   "outputs": [
    {
     "data": {
      "text/html": [
       "<div>\n",
       "<style scoped>\n",
       "    .dataframe tbody tr th:only-of-type {\n",
       "        vertical-align: middle;\n",
       "    }\n",
       "\n",
       "    .dataframe tbody tr th {\n",
       "        vertical-align: top;\n",
       "    }\n",
       "\n",
       "    .dataframe thead th {\n",
       "        text-align: right;\n",
       "    }\n",
       "</style>\n",
       "<table border=\"1\" class=\"dataframe\">\n",
       "  <thead>\n",
       "    <tr style=\"text-align: right;\">\n",
       "      <th></th>\n",
       "      <th>TotalRevenueLost</th>\n",
       "    </tr>\n",
       "  </thead>\n",
       "  <tbody>\n",
       "    <tr>\n",
       "      <th>0</th>\n",
       "      <td>3684459.82</td>\n",
       "    </tr>\n",
       "  </tbody>\n",
       "</table>\n",
       "</div>"
      ],
      "text/plain": [
       "   TotalRevenueLost\n",
       "0        3684459.82"
      ]
     },
     "execution_count": 40,
     "metadata": {},
     "output_type": "execute_result"
    }
   ],
   "source": [
    "# 37. Total Revenue Lost Due to Churned Customers\n",
    "total_revenue_lost_query = \"\"\"\n",
    "SELECT SUM(TotalRevenue) AS TotalRevenueLost\n",
    "FROM TelcoCustomerChurn\n",
    "WHERE CustomerStatus = 'Churned'\n",
    "\"\"\"\n",
    "total_revenue_lost_result = pd.read_sql_query(total_revenue_lost_query, conn)\n",
    "total_revenue_lost_result"
   ]
  },
  {
   "cell_type": "code",
   "execution_count": 41,
   "id": "66e3998c",
   "metadata": {
    "execution": {
     "iopub.execute_input": "2024-11-04T15:47:55.533192Z",
     "iopub.status.busy": "2024-11-04T15:47:55.531977Z",
     "iopub.status.idle": "2024-11-04T15:47:55.539985Z",
     "shell.execute_reply": "2024-11-04T15:47:55.538435Z"
    },
    "papermill": {
     "duration": 0.041275,
     "end_time": "2024-11-04T15:47:55.543376",
     "exception": false,
     "start_time": "2024-11-04T15:47:55.502101",
     "status": "completed"
    },
    "tags": []
   },
   "outputs": [],
   "source": [
    "# Close the database connection\n",
    "conn.close()"
   ]
  }
 ],
 "metadata": {
  "kaggle": {
   "accelerator": "none",
   "dataSources": [
    {
     "datasetId": 5967594,
     "sourceId": 9803947,
     "sourceType": "datasetVersion"
    }
   ],
   "dockerImageVersionId": 30786,
   "isGpuEnabled": false,
   "isInternetEnabled": true,
   "language": "python",
   "sourceType": "notebook"
  },
  "kernelspec": {
   "display_name": "Python 3",
   "language": "python",
   "name": "python3"
  },
  "language_info": {
   "codemirror_mode": {
    "name": "ipython",
    "version": 3
   },
   "file_extension": ".py",
   "mimetype": "text/x-python",
   "name": "python",
   "nbconvert_exporter": "python",
   "pygments_lexer": "ipython3",
   "version": "3.10.14"
  },
  "papermill": {
   "default_parameters": {},
   "duration": 11.414493,
   "end_time": "2024-11-04T15:47:56.298294",
   "environment_variables": {},
   "exception": null,
   "input_path": "__notebook__.ipynb",
   "output_path": "__notebook__.ipynb",
   "parameters": {},
   "start_time": "2024-11-04T15:47:44.883801",
   "version": "2.6.0"
  }
 },
 "nbformat": 4,
 "nbformat_minor": 5
}
